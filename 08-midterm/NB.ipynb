{
 "metadata": {
  "language_info": {
   "codemirror_mode": {
    "name": "ipython",
    "version": 3
   },
   "file_extension": ".py",
   "mimetype": "text/x-python",
   "name": "python",
   "nbconvert_exporter": "python",
   "pygments_lexer": "ipython3",
   "version": "3.8.3-final"
  },
  "orig_nbformat": 2,
  "kernelspec": {
   "name": "python3",
   "display_name": "Python 3"
  }
 },
 "nbformat": 4,
 "nbformat_minor": 2,
 "cells": [
  {
   "cell_type": "code",
   "execution_count": 10,
   "metadata": {},
   "outputs": [],
   "source": [
    "import pandas as pd\n",
    "from sklearn.neighbors import KNeighborsClassifier\n",
    "from sklearn.compose import ColumnTransformer\n",
    "from sklearn.preprocessing import LabelEncoder\n",
    "from sklearn.preprocessing import OneHotEncoder\n",
    "from sklearn.model_selection import train_test_split\n",
    "from sklearn.naive_bayes import GaussianNB"
   ]
  },
  {
   "cell_type": "code",
   "execution_count": 11,
   "metadata": {},
   "outputs": [],
   "source": [
    "X = pd.read_csv(\"./data/X_train.csv\")\n",
    "Y = pd.DataFrame(X['Score'])\n",
    "X = X.drop(columns=['Score'])\n",
    "x_train, x_test, y_train, y_test = train_test_split(X, Y, test_size=0.1)\n",
    "x_train = pd.DataFrame(x_train)\n",
    "x_test = pd.DataFrame(x_test)\n",
    "y_train = pd.DataFrame(y_train)\n",
    "y_test = pd.DataFrame(y_test)"
   ]
  },
  {
   "cell_type": "code",
   "execution_count": 12,
   "metadata": {},
   "outputs": [
    {
     "output_type": "execute_result",
     "data": {
      "text/plain": [
       "         ProductId  UserId  HelpfulnessNumerator  HelpfulnessDenominator  \\\n",
       "1124647      40859   60711                     1                       1   \n",
       "41595          757   31260                     2                       2   \n",
       "689600       21153  104071                     0                       0   \n",
       "753431       24320   66389                     7                      12   \n",
       "1080482      39169   37731                     0                       1   \n",
       "...            ...     ...                   ...                     ...   \n",
       "93208         1381   37269                     0                       1   \n",
       "289682        6725   38571                     9                       9   \n",
       "905604       31905   28930                     0                       0   \n",
       "166198        2886   67317                     4                       5   \n",
       "362257        9057  122092                    12                      15   \n",
       "\n",
       "               Time  \n",
       "1124647  1388016000  \n",
       "41595     971654400  \n",
       "689600   1350086400  \n",
       "753431   1135728000  \n",
       "1080482  1318550400  \n",
       "...             ...  \n",
       "93208    1210723200  \n",
       "289682   1217635200  \n",
       "905604   1378512000  \n",
       "166198   1059177600  \n",
       "362257   1270339200  \n",
       "\n",
       "[1257779 rows x 5 columns]"
      ],
      "text/html": "<div>\n<style scoped>\n    .dataframe tbody tr th:only-of-type {\n        vertical-align: middle;\n    }\n\n    .dataframe tbody tr th {\n        vertical-align: top;\n    }\n\n    .dataframe thead th {\n        text-align: right;\n    }\n</style>\n<table border=\"1\" class=\"dataframe\">\n  <thead>\n    <tr style=\"text-align: right;\">\n      <th></th>\n      <th>ProductId</th>\n      <th>UserId</th>\n      <th>HelpfulnessNumerator</th>\n      <th>HelpfulnessDenominator</th>\n      <th>Time</th>\n    </tr>\n  </thead>\n  <tbody>\n    <tr>\n      <th>1124647</th>\n      <td>40859</td>\n      <td>60711</td>\n      <td>1</td>\n      <td>1</td>\n      <td>1388016000</td>\n    </tr>\n    <tr>\n      <th>41595</th>\n      <td>757</td>\n      <td>31260</td>\n      <td>2</td>\n      <td>2</td>\n      <td>971654400</td>\n    </tr>\n    <tr>\n      <th>689600</th>\n      <td>21153</td>\n      <td>104071</td>\n      <td>0</td>\n      <td>0</td>\n      <td>1350086400</td>\n    </tr>\n    <tr>\n      <th>753431</th>\n      <td>24320</td>\n      <td>66389</td>\n      <td>7</td>\n      <td>12</td>\n      <td>1135728000</td>\n    </tr>\n    <tr>\n      <th>1080482</th>\n      <td>39169</td>\n      <td>37731</td>\n      <td>0</td>\n      <td>1</td>\n      <td>1318550400</td>\n    </tr>\n    <tr>\n      <th>...</th>\n      <td>...</td>\n      <td>...</td>\n      <td>...</td>\n      <td>...</td>\n      <td>...</td>\n    </tr>\n    <tr>\n      <th>93208</th>\n      <td>1381</td>\n      <td>37269</td>\n      <td>0</td>\n      <td>1</td>\n      <td>1210723200</td>\n    </tr>\n    <tr>\n      <th>289682</th>\n      <td>6725</td>\n      <td>38571</td>\n      <td>9</td>\n      <td>9</td>\n      <td>1217635200</td>\n    </tr>\n    <tr>\n      <th>905604</th>\n      <td>31905</td>\n      <td>28930</td>\n      <td>0</td>\n      <td>0</td>\n      <td>1378512000</td>\n    </tr>\n    <tr>\n      <th>166198</th>\n      <td>2886</td>\n      <td>67317</td>\n      <td>4</td>\n      <td>5</td>\n      <td>1059177600</td>\n    </tr>\n    <tr>\n      <th>362257</th>\n      <td>9057</td>\n      <td>122092</td>\n      <td>12</td>\n      <td>15</td>\n      <td>1270339200</td>\n    </tr>\n  </tbody>\n</table>\n<p>1257779 rows × 5 columns</p>\n</div>"
     },
     "metadata": {},
     "execution_count": 12
    }
   ],
   "source": [
    "x_train_features = x_train.drop(columns=['Id', 'Text', 'Summary'])\n",
    "x_test_features = x_test.drop(columns=['Id', 'Text', 'Summary'])\n",
    "\n",
    "predictionSet = pd.read_csv(\"./data/prediction.csv\")\n",
    "x_predict = predictionSet.drop(columns=['Id', 'Text', 'Summary', 'Score'])\n",
    "\n",
    "le = LabelEncoder()\n",
    "x_train_features['ProductId'] = le.fit_transform(pd.DataFrame(x_train_features['ProductId']))\n",
    "x_test_features['ProductId'] = le.fit_transform(pd.DataFrame(x_test_features['ProductId']))\n",
    "x_predict['ProductId'] = le.fit_transform(pd.DataFrame(x_predict['ProductId']))\n",
    "x_train_features['UserId'] = le.fit_transform(pd.DataFrame(x_train_features['UserId']))\n",
    "x_test_features['UserId'] = le.fit_transform(pd.DataFrame(x_test_features['UserId']))\n",
    "x_predict['UserId'] = le.fit_transform(pd.DataFrame(x_predict['UserId']))\n",
    "x_train_features"
   ]
  },
  {
   "cell_type": "code",
   "execution_count": 13,
   "metadata": {},
   "outputs": [],
   "source": [
    "# normalize all the columns\n",
    "def normalize(df):\n",
    "    result = df.copy()\n",
    "    for feature_name in df.columns:\n",
    "        max_value = df[feature_name].max()\n",
    "        min_value = df[feature_name].min()\n",
    "        result[feature_name] = (df[feature_name] - min_value) / (max_value - min_value)\n",
    "    return result\n",
    "\n",
    "# x_train_features = normalize(x_train_features)\n",
    "# x_test_features = normalize(x_test_features)\n",
    "# x_predict = normalize(x_predict)\n",
    "# x_train_features"
   ]
  },
  {
   "cell_type": "code",
   "execution_count": 14,
   "metadata": {},
   "outputs": [
    {
     "output_type": "execute_result",
     "data": {
      "text/plain": [
       "              Id   ProductId          UserId  HelpfulnessNumerator  \\\n",
       "14            16  0005019281  A1GQF4JDJXBRLH                     0   \n",
       "19            22  0005019281  A1PXS5N63PS6WR                     2   \n",
       "31            34  0005019281   AZB4CQ9JZSUQB                     3   \n",
       "32            35  0005019281  A22GJ2SRENMZS0                     0   \n",
       "40            43  0005019281  A3L3ORBU5IXTMX                     0   \n",
       "...          ...         ...             ...                   ...   \n",
       "1397484  1697475  B00L4IDS4W  A2OOJSD9SG88RY                     6   \n",
       "1397499  1697490  B00L8QP082  A1JA9HWFH51VJ9                     0   \n",
       "1397501  1697492  B00L8QP082   AXKA9U2AV1H6C                     7   \n",
       "1397516  1697509  B00LG7VVPO   ALND45MWBGUQS                    25   \n",
       "1397518  1697511  B00LG7VVPO  A2FV6OSD93WLN9                    53   \n",
       "\n",
       "         HelpfulnessDenominator        Time  \\\n",
       "14                            0  1173312000   \n",
       "19                            3  1008115200   \n",
       "31                            4  1012176000   \n",
       "32                            0  1388966400   \n",
       "40                            0  1388534400   \n",
       "...                         ...         ...   \n",
       "1397484                       9  1404777600   \n",
       "1397499                       1  1405814400   \n",
       "1397501                      23  1404432000   \n",
       "1397516                      31  1404604800   \n",
       "1397518                      55  1404345600   \n",
       "\n",
       "                                        Summary  \\\n",
       "14         Great Christmas movie for the family   \n",
       "19                           Change can be good   \n",
       "31           A Christmas Carol to be remembered   \n",
       "32                                Dated TV Flic   \n",
       "40                  An American Christmas Carol   \n",
       "...                                         ...   \n",
       "1397484          So stupid! But awesome action.   \n",
       "1397499                    Thank You Universal!   \n",
       "1397501                                One Star   \n",
       "1397516             Looking at the True America   \n",
       "1397518  Stand with America and see this Movie.   \n",
       "\n",
       "                                                      Text  Score  \n",
       "14       This is a wonderful movie. It stay faithful to...    5.0  \n",
       "19       I must confess to being a bit of a coinsure of...    5.0  \n",
       "31       When this first aired in 1979, I enjoyed it so...    5.0  \n",
       "32       Winkler does a little over-the-top in his role...    5.0  \n",
       "40       I got this for a person who has it on vhs and ...    5.0  \n",
       "...                                                    ...    ...  \n",
       "1397484  Don't worry, no spoilers here. Safe to read. G...    5.0  \n",
       "1397499  30 classic horror films in one set... Excellen...    5.0  \n",
       "1397501           No Blu-ray no sale wake up Universal !!!    5.0  \n",
       "1397516  Let me start by saying that I don't agree with...    5.0  \n",
       "1397518  Great Movie and Great Points made. Say what yo...    5.0  \n",
       "\n",
       "[139754 rows x 9 columns]"
      ],
      "text/html": "<div>\n<style scoped>\n    .dataframe tbody tr th:only-of-type {\n        vertical-align: middle;\n    }\n\n    .dataframe tbody tr th {\n        vertical-align: top;\n    }\n\n    .dataframe thead th {\n        text-align: right;\n    }\n</style>\n<table border=\"1\" class=\"dataframe\">\n  <thead>\n    <tr style=\"text-align: right;\">\n      <th></th>\n      <th>Id</th>\n      <th>ProductId</th>\n      <th>UserId</th>\n      <th>HelpfulnessNumerator</th>\n      <th>HelpfulnessDenominator</th>\n      <th>Time</th>\n      <th>Summary</th>\n      <th>Text</th>\n      <th>Score</th>\n    </tr>\n  </thead>\n  <tbody>\n    <tr>\n      <th>14</th>\n      <td>16</td>\n      <td>0005019281</td>\n      <td>A1GQF4JDJXBRLH</td>\n      <td>0</td>\n      <td>0</td>\n      <td>1173312000</td>\n      <td>Great Christmas movie for the family</td>\n      <td>This is a wonderful movie. It stay faithful to...</td>\n      <td>5.0</td>\n    </tr>\n    <tr>\n      <th>19</th>\n      <td>22</td>\n      <td>0005019281</td>\n      <td>A1PXS5N63PS6WR</td>\n      <td>2</td>\n      <td>3</td>\n      <td>1008115200</td>\n      <td>Change can be good</td>\n      <td>I must confess to being a bit of a coinsure of...</td>\n      <td>5.0</td>\n    </tr>\n    <tr>\n      <th>31</th>\n      <td>34</td>\n      <td>0005019281</td>\n      <td>AZB4CQ9JZSUQB</td>\n      <td>3</td>\n      <td>4</td>\n      <td>1012176000</td>\n      <td>A Christmas Carol to be remembered</td>\n      <td>When this first aired in 1979, I enjoyed it so...</td>\n      <td>5.0</td>\n    </tr>\n    <tr>\n      <th>32</th>\n      <td>35</td>\n      <td>0005019281</td>\n      <td>A22GJ2SRENMZS0</td>\n      <td>0</td>\n      <td>0</td>\n      <td>1388966400</td>\n      <td>Dated TV Flic</td>\n      <td>Winkler does a little over-the-top in his role...</td>\n      <td>5.0</td>\n    </tr>\n    <tr>\n      <th>40</th>\n      <td>43</td>\n      <td>0005019281</td>\n      <td>A3L3ORBU5IXTMX</td>\n      <td>0</td>\n      <td>0</td>\n      <td>1388534400</td>\n      <td>An American Christmas Carol</td>\n      <td>I got this for a person who has it on vhs and ...</td>\n      <td>5.0</td>\n    </tr>\n    <tr>\n      <th>...</th>\n      <td>...</td>\n      <td>...</td>\n      <td>...</td>\n      <td>...</td>\n      <td>...</td>\n      <td>...</td>\n      <td>...</td>\n      <td>...</td>\n      <td>...</td>\n    </tr>\n    <tr>\n      <th>1397484</th>\n      <td>1697475</td>\n      <td>B00L4IDS4W</td>\n      <td>A2OOJSD9SG88RY</td>\n      <td>6</td>\n      <td>9</td>\n      <td>1404777600</td>\n      <td>So stupid! But awesome action.</td>\n      <td>Don't worry, no spoilers here. Safe to read. G...</td>\n      <td>5.0</td>\n    </tr>\n    <tr>\n      <th>1397499</th>\n      <td>1697490</td>\n      <td>B00L8QP082</td>\n      <td>A1JA9HWFH51VJ9</td>\n      <td>0</td>\n      <td>1</td>\n      <td>1405814400</td>\n      <td>Thank You Universal!</td>\n      <td>30 classic horror films in one set... Excellen...</td>\n      <td>5.0</td>\n    </tr>\n    <tr>\n      <th>1397501</th>\n      <td>1697492</td>\n      <td>B00L8QP082</td>\n      <td>AXKA9U2AV1H6C</td>\n      <td>7</td>\n      <td>23</td>\n      <td>1404432000</td>\n      <td>One Star</td>\n      <td>No Blu-ray no sale wake up Universal !!!</td>\n      <td>5.0</td>\n    </tr>\n    <tr>\n      <th>1397516</th>\n      <td>1697509</td>\n      <td>B00LG7VVPO</td>\n      <td>ALND45MWBGUQS</td>\n      <td>25</td>\n      <td>31</td>\n      <td>1404604800</td>\n      <td>Looking at the True America</td>\n      <td>Let me start by saying that I don't agree with...</td>\n      <td>5.0</td>\n    </tr>\n    <tr>\n      <th>1397518</th>\n      <td>1697511</td>\n      <td>B00LG7VVPO</td>\n      <td>A2FV6OSD93WLN9</td>\n      <td>53</td>\n      <td>55</td>\n      <td>1404345600</td>\n      <td>Stand with America and see this Movie.</td>\n      <td>Great Movie and Great Points made. Say what yo...</td>\n      <td>5.0</td>\n    </tr>\n  </tbody>\n</table>\n<p>139754 rows × 9 columns</p>\n</div>"
     },
     "metadata": {},
     "execution_count": 14
    }
   ],
   "source": [
    "model = GaussianNB().fit(x_train_features, y_train.values.flatten())\n",
    "# model = KNeighborsClassifier(n_neighbors=3).fit(x_train_features, y_train.values.flatten())\n",
    "predictionSet['Score'] = model.predict(x_predict)\n",
    "x_test['Score'] = model.predict(x_test_features)\n",
    "x_test = x_test.sort_values(by=['Id'])\n",
    "x_test"
   ]
  },
  {
   "cell_type": "code",
   "execution_count": 15,
   "metadata": {},
   "outputs": [
    {
     "output_type": "stream",
     "name": "stdout",
     "text": [
      "   Id  Score\n0   5    5.0\n1  11    5.0\n2  17    5.0\n3  46    5.0\n4  47    5.0\n"
     ]
    }
   ],
   "source": [
    "submission = predictionSet[['Id', 'Score']]\n",
    "submission_offline = x_test[['Id', 'Score']]\n",
    "print(submission.head())\n",
    "submission.to_csv(\"./data/submission.csv\", index=False)\n",
    "submission_offline.to_csv(\"./data/submission_offline.csv\", index=False)"
   ]
  },
  {
   "cell_type": "code",
   "execution_count": null,
   "metadata": {},
   "outputs": [],
   "source": []
  }
 ]
}