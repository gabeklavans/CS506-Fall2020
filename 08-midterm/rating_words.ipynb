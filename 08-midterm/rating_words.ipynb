{
 "metadata": {
  "language_info": {
   "codemirror_mode": {
    "name": "ipython",
    "version": 3
   },
   "file_extension": ".py",
   "mimetype": "text/x-python",
   "name": "python",
   "nbconvert_exporter": "python",
   "pygments_lexer": "ipython3",
   "version": "3.8.3-final"
  },
  "orig_nbformat": 2,
  "kernelspec": {
   "name": "python3",
   "display_name": "Python 3"
  }
 },
 "nbformat": 4,
 "nbformat_minor": 2,
 "cells": [
  {
   "cell_type": "code",
   "execution_count": 1,
   "metadata": {},
   "outputs": [],
   "source": [
    "import pandas as pd\n",
    "from sklearn.neighbors import KNeighborsClassifier\n",
    "from sklearn.compose import ColumnTransformer\n",
    "from sklearn.preprocessing import LabelEncoder\n",
    "from sklearn.preprocessing import OneHotEncoder\n",
    "from sklearn.model_selection import train_test_split\n",
    "from sklearn.naive_bayes import GaussianNB\n",
    "\n",
    "from nltk.corpus import stopwords\n",
    "from nltk.tokenize import word_tokenize\n",
    "from tqdm import tqdm"
   ]
  },
  {
   "cell_type": "code",
   "execution_count": 2,
   "metadata": {},
   "outputs": [],
   "source": [
    "data = pd.read_csv(\"./data/X_train.csv\")\n",
    "data = data.sample(frac=0.07)\n",
    "# data = data[data['Summary'].notna()]\n",
    "data = data[data['Text'].notna()]"
   ]
  },
  {
   "cell_type": "code",
   "execution_count": 3,
   "metadata": {
    "tags": []
   },
   "outputs": [
    {
     "output_type": "stream",
     "name": "stderr",
     "text": [
      "97823it [05:32, 294.57it/s]\n"
     ]
    }
   ],
   "source": [
    "stop_words = set(stopwords.words('english')) \n",
    "\n",
    "word_bags = {0.0: set(), 1.0: set(), 2.0: set(), 3.0: set(), 4.0: set(), 5.0: set()}\n",
    "for i, row in tqdm(data.iterrows()):\n",
    "    summary = row['Text']\n",
    "    summary = summary.lower()\n",
    "    sum_tokens = word_tokenize(summary)\n",
    "    filtered_tokens = [word for word in sum_tokens if not word in stop_words]\n",
    "    filtered_tokens = [word for word in filtered_tokens if word.isalpha()]\n",
    "    word_bags[row['Score']] = word_bags[row['Score']].union(set(filtered_tokens))\n",
    "# word_bags[1.0]"
   ]
  },
  {
   "cell_type": "code",
   "execution_count": 4,
   "metadata": {},
   "outputs": [],
   "source": [
    "def get_score_word_column(df, score):\n",
    "    score_vec = []\n",
    "    for i, row in tqdm(df.iterrows()):\n",
    "        tot_words = 0\n",
    "        summary = row['Text']\n",
    "        summary = summary.lower()\n",
    "        sum_tokens = word_tokenize(summary)\n",
    "        filtered_tokens = [word for word in sum_tokens if not word in stop_words]\n",
    "        filtered_tokens = [word for word in filtered_tokens if word.isalpha()]\n",
    "        for word in filtered_tokens:\n",
    "            if word in word_bags[score]:\n",
    "                tot_words += 1\n",
    "        score_vec.append(tot_words)\n",
    "    return score_vec"
   ]
  },
  {
   "cell_type": "code",
   "execution_count": 5,
   "metadata": {},
   "outputs": [
    {
     "output_type": "stream",
     "name": "stderr",
     "text": [
      "97823it [01:34, 1036.19it/s]\n",
      "97823it [01:35, 1027.52it/s]\n",
      "97823it [01:35, 1027.90it/s]\n",
      "97823it [01:34, 1033.22it/s]\n",
      "97823it [01:34, 1035.61it/s]\n",
      "97823it [01:34, 1033.64it/s]\n"
     ]
    }
   ],
   "source": [
    "data['0words'] = get_score_word_column(data, 0.0)\n",
    "data['1words'] = get_score_word_column(data, 1.0)\n",
    "data['2words'] = get_score_word_column(data, 2.0)\n",
    "data['3words'] = get_score_word_column(data, 3.0)\n",
    "data['4words'] = get_score_word_column(data, 4.0)\n",
    "data['5words'] = get_score_word_column(data, 5.0)"
   ]
  },
  {
   "cell_type": "code",
   "execution_count": 6,
   "metadata": {},
   "outputs": [
    {
     "output_type": "execute_result",
     "data": {
      "text/plain": [
       "              Id   ProductId          UserId  HelpfulnessNumerator  \\\n",
       "445096    540767  B00003CXXR  A1ZKK7GPHUFIMH                     0   \n",
       "358308    435426  6304773307   AQ01Q3070LT29                     2   \n",
       "1295874  1574335  B008QP3ZYE    ANV4I96IQ28T                     5   \n",
       "1203782  1462681  B005IZLPKQ   AHBNPMHDWZ7SB                     3   \n",
       "713603    867243  B0006GAO54   A82LIVYSX6WZ9                     7   \n",
       "...          ...         ...             ...                   ...   \n",
       "1112160  1351351  B003L77G7Y   A23N0VB0K2QUA                     0   \n",
       "1324367  1608870  B00AF6B22E  A2Z29N73CUH3GB                     0   \n",
       "483597    587515  B00005JKJM  A1NVW4NUXPOSJB                     0   \n",
       "514171    624740  B00005JMZK  A3ROE64EVHDTTV                     1   \n",
       "528237    641870  B00005JOKM  A1DIZ60L9GDNZ1                     3   \n",
       "\n",
       "         HelpfulnessDenominator  Score        Time  \\\n",
       "445096                        0    2.0   995500800   \n",
       "358308                        3    3.0  1058227200   \n",
       "1295874                       9    4.0  1379462400   \n",
       "1203782                       4    4.0  1341792000   \n",
       "713603                       10    5.0  1109030400   \n",
       "...                         ...    ...         ...   \n",
       "1112160                       0    5.0  1356652800   \n",
       "1324367                       0    4.0  1395273600   \n",
       "483597                        2    3.0  1074816000   \n",
       "514171                        1    4.0  1207180800   \n",
       "528237                        5    5.0  1143417600   \n",
       "\n",
       "                                                   Summary  \\\n",
       "445096              Great movie destroyed by a bad ending.   \n",
       "358308   Can a straight Bronx man live with a clean gay...   \n",
       "1295874                     Great Work, Awful Presentation   \n",
       "1203782            The Avengers Saga Enters the Golden Age   \n",
       "713603      Angel says goodbye but he will live on forever   \n",
       "...                                                    ...   \n",
       "1112160                                loved every episode   \n",
       "1324367                                    Very Good Movie   \n",
       "483597                                Slow but well done !   \n",
       "514171   But My Mommy Told Me There Were No Real Monste...   \n",
       "528237                                           Good Luck   \n",
       "\n",
       "                                                      Text  0words  1words  \\\n",
       "445096   Jurrassic park 3 is a great addition to the se...       0      50   \n",
       "358308   After catching his brother having sex with his...       0      54   \n",
       "1295874  The Story of Film is a great piece of work and...       0      82   \n",
       "1203782  After years of awaiting a movie worth this his...       0     794   \n",
       "713603   Angel (David Boreanaz) is now the head honcho ...       0     477   \n",
       "...                                                    ...     ...     ...   \n",
       "1112160  american dad often gets overshadowed by family...       0      18   \n",
       "1324367  Flight is a very good movie.  Great story, gre...       0      20   \n",
       "483597   The acting and filming are very good. Lighting...       0      31   \n",
       "514171   The Good Things*Cool special effects and some ...       0     169   \n",
       "528237   feel the movie was perfectly accessible to me....       0      31   \n",
       "\n",
       "         2words  3words  4words  5words  \n",
       "445096       54      50      52      53  \n",
       "358308       55      58      57      57  \n",
       "1295874      80      81      85      84  \n",
       "1203782     802     810     824     820  \n",
       "713603      491     503     519     532  \n",
       "...         ...     ...     ...     ...  \n",
       "1112160      18      18      18      18  \n",
       "1324367      20      20      20      20  \n",
       "483597       31      31      31      31  \n",
       "514171      171     171     172     172  \n",
       "528237       31      31      31      32  \n",
       "\n",
       "[97823 rows x 15 columns]"
      ],
      "text/html": "<div>\n<style scoped>\n    .dataframe tbody tr th:only-of-type {\n        vertical-align: middle;\n    }\n\n    .dataframe tbody tr th {\n        vertical-align: top;\n    }\n\n    .dataframe thead th {\n        text-align: right;\n    }\n</style>\n<table border=\"1\" class=\"dataframe\">\n  <thead>\n    <tr style=\"text-align: right;\">\n      <th></th>\n      <th>Id</th>\n      <th>ProductId</th>\n      <th>UserId</th>\n      <th>HelpfulnessNumerator</th>\n      <th>HelpfulnessDenominator</th>\n      <th>Score</th>\n      <th>Time</th>\n      <th>Summary</th>\n      <th>Text</th>\n      <th>0words</th>\n      <th>1words</th>\n      <th>2words</th>\n      <th>3words</th>\n      <th>4words</th>\n      <th>5words</th>\n    </tr>\n  </thead>\n  <tbody>\n    <tr>\n      <th>445096</th>\n      <td>540767</td>\n      <td>B00003CXXR</td>\n      <td>A1ZKK7GPHUFIMH</td>\n      <td>0</td>\n      <td>0</td>\n      <td>2.0</td>\n      <td>995500800</td>\n      <td>Great movie destroyed by a bad ending.</td>\n      <td>Jurrassic park 3 is a great addition to the se...</td>\n      <td>0</td>\n      <td>50</td>\n      <td>54</td>\n      <td>50</td>\n      <td>52</td>\n      <td>53</td>\n    </tr>\n    <tr>\n      <th>358308</th>\n      <td>435426</td>\n      <td>6304773307</td>\n      <td>AQ01Q3070LT29</td>\n      <td>2</td>\n      <td>3</td>\n      <td>3.0</td>\n      <td>1058227200</td>\n      <td>Can a straight Bronx man live with a clean gay...</td>\n      <td>After catching his brother having sex with his...</td>\n      <td>0</td>\n      <td>54</td>\n      <td>55</td>\n      <td>58</td>\n      <td>57</td>\n      <td>57</td>\n    </tr>\n    <tr>\n      <th>1295874</th>\n      <td>1574335</td>\n      <td>B008QP3ZYE</td>\n      <td>ANV4I96IQ28T</td>\n      <td>5</td>\n      <td>9</td>\n      <td>4.0</td>\n      <td>1379462400</td>\n      <td>Great Work, Awful Presentation</td>\n      <td>The Story of Film is a great piece of work and...</td>\n      <td>0</td>\n      <td>82</td>\n      <td>80</td>\n      <td>81</td>\n      <td>85</td>\n      <td>84</td>\n    </tr>\n    <tr>\n      <th>1203782</th>\n      <td>1462681</td>\n      <td>B005IZLPKQ</td>\n      <td>AHBNPMHDWZ7SB</td>\n      <td>3</td>\n      <td>4</td>\n      <td>4.0</td>\n      <td>1341792000</td>\n      <td>The Avengers Saga Enters the Golden Age</td>\n      <td>After years of awaiting a movie worth this his...</td>\n      <td>0</td>\n      <td>794</td>\n      <td>802</td>\n      <td>810</td>\n      <td>824</td>\n      <td>820</td>\n    </tr>\n    <tr>\n      <th>713603</th>\n      <td>867243</td>\n      <td>B0006GAO54</td>\n      <td>A82LIVYSX6WZ9</td>\n      <td>7</td>\n      <td>10</td>\n      <td>5.0</td>\n      <td>1109030400</td>\n      <td>Angel says goodbye but he will live on forever</td>\n      <td>Angel (David Boreanaz) is now the head honcho ...</td>\n      <td>0</td>\n      <td>477</td>\n      <td>491</td>\n      <td>503</td>\n      <td>519</td>\n      <td>532</td>\n    </tr>\n    <tr>\n      <th>...</th>\n      <td>...</td>\n      <td>...</td>\n      <td>...</td>\n      <td>...</td>\n      <td>...</td>\n      <td>...</td>\n      <td>...</td>\n      <td>...</td>\n      <td>...</td>\n      <td>...</td>\n      <td>...</td>\n      <td>...</td>\n      <td>...</td>\n      <td>...</td>\n      <td>...</td>\n    </tr>\n    <tr>\n      <th>1112160</th>\n      <td>1351351</td>\n      <td>B003L77G7Y</td>\n      <td>A23N0VB0K2QUA</td>\n      <td>0</td>\n      <td>0</td>\n      <td>5.0</td>\n      <td>1356652800</td>\n      <td>loved every episode</td>\n      <td>american dad often gets overshadowed by family...</td>\n      <td>0</td>\n      <td>18</td>\n      <td>18</td>\n      <td>18</td>\n      <td>18</td>\n      <td>18</td>\n    </tr>\n    <tr>\n      <th>1324367</th>\n      <td>1608870</td>\n      <td>B00AF6B22E</td>\n      <td>A2Z29N73CUH3GB</td>\n      <td>0</td>\n      <td>0</td>\n      <td>4.0</td>\n      <td>1395273600</td>\n      <td>Very Good Movie</td>\n      <td>Flight is a very good movie.  Great story, gre...</td>\n      <td>0</td>\n      <td>20</td>\n      <td>20</td>\n      <td>20</td>\n      <td>20</td>\n      <td>20</td>\n    </tr>\n    <tr>\n      <th>483597</th>\n      <td>587515</td>\n      <td>B00005JKJM</td>\n      <td>A1NVW4NUXPOSJB</td>\n      <td>0</td>\n      <td>2</td>\n      <td>3.0</td>\n      <td>1074816000</td>\n      <td>Slow but well done !</td>\n      <td>The acting and filming are very good. Lighting...</td>\n      <td>0</td>\n      <td>31</td>\n      <td>31</td>\n      <td>31</td>\n      <td>31</td>\n      <td>31</td>\n    </tr>\n    <tr>\n      <th>514171</th>\n      <td>624740</td>\n      <td>B00005JMZK</td>\n      <td>A3ROE64EVHDTTV</td>\n      <td>1</td>\n      <td>1</td>\n      <td>4.0</td>\n      <td>1207180800</td>\n      <td>But My Mommy Told Me There Were No Real Monste...</td>\n      <td>The Good Things*Cool special effects and some ...</td>\n      <td>0</td>\n      <td>169</td>\n      <td>171</td>\n      <td>171</td>\n      <td>172</td>\n      <td>172</td>\n    </tr>\n    <tr>\n      <th>528237</th>\n      <td>641870</td>\n      <td>B00005JOKM</td>\n      <td>A1DIZ60L9GDNZ1</td>\n      <td>3</td>\n      <td>5</td>\n      <td>5.0</td>\n      <td>1143417600</td>\n      <td>Good Luck</td>\n      <td>feel the movie was perfectly accessible to me....</td>\n      <td>0</td>\n      <td>31</td>\n      <td>31</td>\n      <td>31</td>\n      <td>31</td>\n      <td>32</td>\n    </tr>\n  </tbody>\n</table>\n<p>97823 rows × 15 columns</p>\n</div>"
     },
     "metadata": {},
     "execution_count": 6
    }
   ],
   "source": [
    "data"
   ]
  },
  {
   "cell_type": "code",
   "execution_count": 7,
   "metadata": {},
   "outputs": [],
   "source": [
    "Y = pd.DataFrame(data['Score'])\n",
    "X = data.drop(columns=['Score'])\n",
    "x_train, x_test, y_train, y_test = train_test_split(X, Y, test_size=0.1)\n",
    "x_train = pd.DataFrame(x_train)\n",
    "x_test = pd.DataFrame(x_test)\n",
    "y_train = pd.DataFrame(y_train)\n",
    "y_test = pd.DataFrame(y_test)"
   ]
  },
  {
   "cell_type": "code",
   "execution_count": 8,
   "metadata": {},
   "outputs": [],
   "source": [
    "x_train_features = x_train.drop(columns=['Id', 'Text', 'Summary', 'ProductId', 'UserId', 'HelpfulnessNumerator', 'HelpfulnessDenominator', 'Time'])\n",
    "x_test_features = x_test.drop(columns=['Id', 'Text', 'Summary', 'ProductId', 'UserId', 'HelpfulnessNumerator', 'HelpfulnessDenominator', 'Time'])"
   ]
  },
  {
   "cell_type": "code",
   "execution_count": 9,
   "metadata": {},
   "outputs": [],
   "source": [
    "predictionSet = pd.read_csv(\"./data/prediction.csv\")\n",
    "# predictionSet = predictionSet[predictionSet['Summary'].notnull()]\n",
    "predictionSet['Text'].fillna(\"na\", inplace=True)"
   ]
  },
  {
   "cell_type": "code",
   "execution_count": 10,
   "metadata": {
    "tags": []
   },
   "outputs": [
    {
     "output_type": "stream",
     "name": "stderr",
     "text": [
      "300000it [04:45, 1051.92it/s]\n",
      "300000it [04:51, 1030.91it/s]\n",
      "300000it [04:53, 1023.29it/s]\n",
      "300000it [04:50, 1032.60it/s]\n",
      "300000it [04:51, 1028.74it/s]\n",
      "300000it [04:59, 1003.20it/s]\n"
     ]
    },
    {
     "output_type": "execute_result",
     "data": {
      "text/plain": [
       "        0words  1words  2words  3words  4words  5words\n",
       "0            0      22      23      23      23      23\n",
       "1            0      10      10      10      10      10\n",
       "2            0      12      12      12      12      12\n",
       "3            0      28      29      30      29      29\n",
       "4            0       6       6       6       6       6\n",
       "...        ...     ...     ...     ...     ...     ...\n",
       "299995       0     355     365     365     382     373\n",
       "299996       0     164     172     172     176     181\n",
       "299997       0      17      17      17      18      17\n",
       "299998       0     483     515     538     570     570\n",
       "299999       0      42      42      42      42      42\n",
       "\n",
       "[300000 rows x 6 columns]"
      ],
      "text/html": "<div>\n<style scoped>\n    .dataframe tbody tr th:only-of-type {\n        vertical-align: middle;\n    }\n\n    .dataframe tbody tr th {\n        vertical-align: top;\n    }\n\n    .dataframe thead th {\n        text-align: right;\n    }\n</style>\n<table border=\"1\" class=\"dataframe\">\n  <thead>\n    <tr style=\"text-align: right;\">\n      <th></th>\n      <th>0words</th>\n      <th>1words</th>\n      <th>2words</th>\n      <th>3words</th>\n      <th>4words</th>\n      <th>5words</th>\n    </tr>\n  </thead>\n  <tbody>\n    <tr>\n      <th>0</th>\n      <td>0</td>\n      <td>22</td>\n      <td>23</td>\n      <td>23</td>\n      <td>23</td>\n      <td>23</td>\n    </tr>\n    <tr>\n      <th>1</th>\n      <td>0</td>\n      <td>10</td>\n      <td>10</td>\n      <td>10</td>\n      <td>10</td>\n      <td>10</td>\n    </tr>\n    <tr>\n      <th>2</th>\n      <td>0</td>\n      <td>12</td>\n      <td>12</td>\n      <td>12</td>\n      <td>12</td>\n      <td>12</td>\n    </tr>\n    <tr>\n      <th>3</th>\n      <td>0</td>\n      <td>28</td>\n      <td>29</td>\n      <td>30</td>\n      <td>29</td>\n      <td>29</td>\n    </tr>\n    <tr>\n      <th>4</th>\n      <td>0</td>\n      <td>6</td>\n      <td>6</td>\n      <td>6</td>\n      <td>6</td>\n      <td>6</td>\n    </tr>\n    <tr>\n      <th>...</th>\n      <td>...</td>\n      <td>...</td>\n      <td>...</td>\n      <td>...</td>\n      <td>...</td>\n      <td>...</td>\n    </tr>\n    <tr>\n      <th>299995</th>\n      <td>0</td>\n      <td>355</td>\n      <td>365</td>\n      <td>365</td>\n      <td>382</td>\n      <td>373</td>\n    </tr>\n    <tr>\n      <th>299996</th>\n      <td>0</td>\n      <td>164</td>\n      <td>172</td>\n      <td>172</td>\n      <td>176</td>\n      <td>181</td>\n    </tr>\n    <tr>\n      <th>299997</th>\n      <td>0</td>\n      <td>17</td>\n      <td>17</td>\n      <td>17</td>\n      <td>18</td>\n      <td>17</td>\n    </tr>\n    <tr>\n      <th>299998</th>\n      <td>0</td>\n      <td>483</td>\n      <td>515</td>\n      <td>538</td>\n      <td>570</td>\n      <td>570</td>\n    </tr>\n    <tr>\n      <th>299999</th>\n      <td>0</td>\n      <td>42</td>\n      <td>42</td>\n      <td>42</td>\n      <td>42</td>\n      <td>42</td>\n    </tr>\n  </tbody>\n</table>\n<p>300000 rows × 6 columns</p>\n</div>"
     },
     "metadata": {},
     "execution_count": 10
    }
   ],
   "source": [
    "predictionSet['0words'] = get_score_word_column(predictionSet, 0.0)\n",
    "predictionSet['1words'] = get_score_word_column(predictionSet, 1.0)\n",
    "predictionSet['2words'] = get_score_word_column(predictionSet, 2.0)\n",
    "predictionSet['3words'] = get_score_word_column(predictionSet, 3.0)\n",
    "predictionSet['4words'] = get_score_word_column(predictionSet, 4.0)\n",
    "predictionSet['5words'] = get_score_word_column(predictionSet, 5.0)\n",
    "x_predict = predictionSet.drop(columns=['Id', 'Text', 'Summary', 'ProductId', 'UserId', 'HelpfulnessNumerator', 'HelpfulnessDenominator', 'Time', 'Score'])\n",
    "x_predict"
   ]
  },
  {
   "cell_type": "code",
   "execution_count": 11,
   "metadata": {},
   "outputs": [
    {
     "output_type": "execute_result",
     "data": {
      "text/plain": [
       "              Id   ProductId          UserId  HelpfulnessNumerator  \\\n",
       "55            63  0005019281  A38JFF6SGZEO37                     0   \n",
       "175          205  0307141985  A2JP0URFHXP6DO                    11   \n",
       "268          313  0307142493  A20VTMEUX1RLFZ                     0   \n",
       "286          331  0307142493  A22BPC7LRSGSYQ                     2   \n",
       "461          544  0310263662  A2NP4TXHLHC7K9                     8   \n",
       "...          ...         ...             ...                   ...   \n",
       "1396294  1696022  B00JA3RPAG  A175WEJB723MO9                     0   \n",
       "1396625  1696418  B00JAQJMJ0  A3GUNXVYK34085                     0   \n",
       "1396818  1696656  B00JJ3EH6C  A3Q9SC3WO1GO33                     0   \n",
       "1396862  1696713  B00JK7QTZE  A234GGIGZWC63U                     0   \n",
       "1396897  1696757  B00JKPHUE0  A356HRZZFCEGL1                     1   \n",
       "\n",
       "         HelpfulnessDenominator        Time  \\\n",
       "55                            0  1388793600   \n",
       "175                          12  1141171200   \n",
       "268                           0  1382918400   \n",
       "286                           2  1386547200   \n",
       "461                          13  1091491200   \n",
       "...                         ...         ...   \n",
       "1396294                       1  1405468800   \n",
       "1396625                       2  1405728000   \n",
       "1396818                       0  1405296000   \n",
       "1396862                       1  1405987200   \n",
       "1396897                       4  1401148800   \n",
       "\n",
       "                                                   Summary  \\\n",
       "55                            The Best Film about Scrooge!   \n",
       "175                               A THANKSGIVING TRADITION   \n",
       "268                                              A Classic   \n",
       "286                                      Christmas Classic   \n",
       "461                   The movie is great. The DVD is so so   \n",
       "...                                                    ...   \n",
       "1396294       Something for everyone over the pg-13 rating   \n",
       "1396625                                   Ornate Silliness   \n",
       "1396818                           Tom Hardy's One Man Show   \n",
       "1396862                                  A true love story   \n",
       "1396897  Several Plot Threads Interweave to Form a Web ...   \n",
       "\n",
       "                                                      Text  0words  1words  \\\n",
       "55       I love An American Christmas Carol with Henry ...       0      14   \n",
       "175      It's been a number of years since I've seen Mo...       0     105   \n",
       "268      I watched this program as a kid and every year...       0      20   \n",
       "286      I caught this on ABC-TV tonight as I was flick...       0      72   \n",
       "461      One of the great reasons for buying DVD's is t...       0      94   \n",
       "...                                                    ...     ...     ...   \n",
       "1396294  I am 48 father of two, but act like I'm 20(som...       0      29   \n",
       "1396625  This film was shoved out of the theaters and o...       0      84   \n",
       "1396818  Tom Hardy Is basically the film, and his perfo...       0      14   \n",
       "1396862  A true love story that takes you back to anoth...       0      20   \n",
       "1396897  ***This review may contain spoilers.***Just as...       0     363   \n",
       "\n",
       "         2words  3words  4words  5words  Score  \n",
       "55           15      15      15      15    5.0  \n",
       "175         109     116     113     116    3.0  \n",
       "268          20      20      20      20    1.0  \n",
       "286          73      73      73      74    5.0  \n",
       "461          94      94      95      96    5.0  \n",
       "...         ...     ...     ...     ...    ...  \n",
       "1396294      29      29      29      29    1.0  \n",
       "1396625      90      88      90      89    2.0  \n",
       "1396818      14      14      14      14    3.0  \n",
       "1396862      20      20      20      20    1.0  \n",
       "1396897     373     381     384     393    5.0  \n",
       "\n",
       "[9783 rows x 15 columns]"
      ],
      "text/html": "<div>\n<style scoped>\n    .dataframe tbody tr th:only-of-type {\n        vertical-align: middle;\n    }\n\n    .dataframe tbody tr th {\n        vertical-align: top;\n    }\n\n    .dataframe thead th {\n        text-align: right;\n    }\n</style>\n<table border=\"1\" class=\"dataframe\">\n  <thead>\n    <tr style=\"text-align: right;\">\n      <th></th>\n      <th>Id</th>\n      <th>ProductId</th>\n      <th>UserId</th>\n      <th>HelpfulnessNumerator</th>\n      <th>HelpfulnessDenominator</th>\n      <th>Time</th>\n      <th>Summary</th>\n      <th>Text</th>\n      <th>0words</th>\n      <th>1words</th>\n      <th>2words</th>\n      <th>3words</th>\n      <th>4words</th>\n      <th>5words</th>\n      <th>Score</th>\n    </tr>\n  </thead>\n  <tbody>\n    <tr>\n      <th>55</th>\n      <td>63</td>\n      <td>0005019281</td>\n      <td>A38JFF6SGZEO37</td>\n      <td>0</td>\n      <td>0</td>\n      <td>1388793600</td>\n      <td>The Best Film about Scrooge!</td>\n      <td>I love An American Christmas Carol with Henry ...</td>\n      <td>0</td>\n      <td>14</td>\n      <td>15</td>\n      <td>15</td>\n      <td>15</td>\n      <td>15</td>\n      <td>5.0</td>\n    </tr>\n    <tr>\n      <th>175</th>\n      <td>205</td>\n      <td>0307141985</td>\n      <td>A2JP0URFHXP6DO</td>\n      <td>11</td>\n      <td>12</td>\n      <td>1141171200</td>\n      <td>A THANKSGIVING TRADITION</td>\n      <td>It's been a number of years since I've seen Mo...</td>\n      <td>0</td>\n      <td>105</td>\n      <td>109</td>\n      <td>116</td>\n      <td>113</td>\n      <td>116</td>\n      <td>3.0</td>\n    </tr>\n    <tr>\n      <th>268</th>\n      <td>313</td>\n      <td>0307142493</td>\n      <td>A20VTMEUX1RLFZ</td>\n      <td>0</td>\n      <td>0</td>\n      <td>1382918400</td>\n      <td>A Classic</td>\n      <td>I watched this program as a kid and every year...</td>\n      <td>0</td>\n      <td>20</td>\n      <td>20</td>\n      <td>20</td>\n      <td>20</td>\n      <td>20</td>\n      <td>1.0</td>\n    </tr>\n    <tr>\n      <th>286</th>\n      <td>331</td>\n      <td>0307142493</td>\n      <td>A22BPC7LRSGSYQ</td>\n      <td>2</td>\n      <td>2</td>\n      <td>1386547200</td>\n      <td>Christmas Classic</td>\n      <td>I caught this on ABC-TV tonight as I was flick...</td>\n      <td>0</td>\n      <td>72</td>\n      <td>73</td>\n      <td>73</td>\n      <td>73</td>\n      <td>74</td>\n      <td>5.0</td>\n    </tr>\n    <tr>\n      <th>461</th>\n      <td>544</td>\n      <td>0310263662</td>\n      <td>A2NP4TXHLHC7K9</td>\n      <td>8</td>\n      <td>13</td>\n      <td>1091491200</td>\n      <td>The movie is great. The DVD is so so</td>\n      <td>One of the great reasons for buying DVD's is t...</td>\n      <td>0</td>\n      <td>94</td>\n      <td>94</td>\n      <td>94</td>\n      <td>95</td>\n      <td>96</td>\n      <td>5.0</td>\n    </tr>\n    <tr>\n      <th>...</th>\n      <td>...</td>\n      <td>...</td>\n      <td>...</td>\n      <td>...</td>\n      <td>...</td>\n      <td>...</td>\n      <td>...</td>\n      <td>...</td>\n      <td>...</td>\n      <td>...</td>\n      <td>...</td>\n      <td>...</td>\n      <td>...</td>\n      <td>...</td>\n      <td>...</td>\n    </tr>\n    <tr>\n      <th>1396294</th>\n      <td>1696022</td>\n      <td>B00JA3RPAG</td>\n      <td>A175WEJB723MO9</td>\n      <td>0</td>\n      <td>1</td>\n      <td>1405468800</td>\n      <td>Something for everyone over the pg-13 rating</td>\n      <td>I am 48 father of two, but act like I'm 20(som...</td>\n      <td>0</td>\n      <td>29</td>\n      <td>29</td>\n      <td>29</td>\n      <td>29</td>\n      <td>29</td>\n      <td>1.0</td>\n    </tr>\n    <tr>\n      <th>1396625</th>\n      <td>1696418</td>\n      <td>B00JAQJMJ0</td>\n      <td>A3GUNXVYK34085</td>\n      <td>0</td>\n      <td>2</td>\n      <td>1405728000</td>\n      <td>Ornate Silliness</td>\n      <td>This film was shoved out of the theaters and o...</td>\n      <td>0</td>\n      <td>84</td>\n      <td>90</td>\n      <td>88</td>\n      <td>90</td>\n      <td>89</td>\n      <td>2.0</td>\n    </tr>\n    <tr>\n      <th>1396818</th>\n      <td>1696656</td>\n      <td>B00JJ3EH6C</td>\n      <td>A3Q9SC3WO1GO33</td>\n      <td>0</td>\n      <td>0</td>\n      <td>1405296000</td>\n      <td>Tom Hardy's One Man Show</td>\n      <td>Tom Hardy Is basically the film, and his perfo...</td>\n      <td>0</td>\n      <td>14</td>\n      <td>14</td>\n      <td>14</td>\n      <td>14</td>\n      <td>14</td>\n      <td>3.0</td>\n    </tr>\n    <tr>\n      <th>1396862</th>\n      <td>1696713</td>\n      <td>B00JK7QTZE</td>\n      <td>A234GGIGZWC63U</td>\n      <td>0</td>\n      <td>1</td>\n      <td>1405987200</td>\n      <td>A true love story</td>\n      <td>A true love story that takes you back to anoth...</td>\n      <td>0</td>\n      <td>20</td>\n      <td>20</td>\n      <td>20</td>\n      <td>20</td>\n      <td>20</td>\n      <td>1.0</td>\n    </tr>\n    <tr>\n      <th>1396897</th>\n      <td>1696757</td>\n      <td>B00JKPHUE0</td>\n      <td>A356HRZZFCEGL1</td>\n      <td>1</td>\n      <td>4</td>\n      <td>1401148800</td>\n      <td>Several Plot Threads Interweave to Form a Web ...</td>\n      <td>***This review may contain spoilers.***Just as...</td>\n      <td>0</td>\n      <td>363</td>\n      <td>373</td>\n      <td>381</td>\n      <td>384</td>\n      <td>393</td>\n      <td>5.0</td>\n    </tr>\n  </tbody>\n</table>\n<p>9783 rows × 15 columns</p>\n</div>"
     },
     "metadata": {},
     "execution_count": 11
    }
   ],
   "source": [
    "# model = GaussianNB().fit(x_train_features, y_train.values.flatten())\n",
    "model = KNeighborsClassifier(n_neighbors=3).fit(x_train_features, y_train.values.flatten())\n",
    "predictionSet['Score'] = model.predict(x_predict)\n",
    "x_test['Score'] = model.predict(x_test_features)\n",
    "x_test = x_test.sort_values(by=['Id'])\n",
    "x_test"
   ]
  },
  {
   "cell_type": "code",
   "execution_count": 12,
   "metadata": {},
   "outputs": [
    {
     "output_type": "stream",
     "name": "stdout",
     "text": [
      "   Id  Score\n0   5    2.0\n1  11    5.0\n2  17    1.0\n3  46    3.0\n4  47    5.0\n"
     ]
    }
   ],
   "source": [
    "submission = predictionSet[['Id', 'Score']]\n",
    "submission_offline = x_test[['Id', 'Score']]\n",
    "print(submission.head())\n",
    "submission.to_csv(\"./data/submission.csv\", index=False)\n",
    "submission_offline.to_csv(\"./data/submission_offline.csv\", index=False)"
   ]
  },
  {
   "cell_type": "code",
   "execution_count": null,
   "metadata": {},
   "outputs": [],
   "source": []
  }
 ]
}