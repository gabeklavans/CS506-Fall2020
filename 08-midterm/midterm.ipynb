{
 "metadata": {
  "language_info": {
   "codemirror_mode": {
    "name": "ipython",
    "version": 3
   },
   "file_extension": ".py",
   "mimetype": "text/x-python",
   "name": "python",
   "nbconvert_exporter": "python",
   "pygments_lexer": "ipython3",
   "version": "3.8.3-final"
  },
  "orig_nbformat": 2,
  "kernelspec": {
   "name": "python3",
   "display_name": "Python 3"
  }
 },
 "nbformat": 4,
 "nbformat_minor": 2,
 "cells": [
  {
   "cell_type": "code",
   "execution_count": 1,
   "metadata": {},
   "outputs": [],
   "source": [
    "import pandas as pd\n",
    "from sklearn.neighbors import KNeighborsClassifier\n",
    "from sklearn.compose import ColumnTransformer\n",
    "from sklearn.preprocessing import LabelEncoder\n",
    "from sklearn.preprocessing import OneHotEncoder\n",
    "from sklearn.model_selection import train_test_split"
   ]
  },
  {
   "cell_type": "code",
   "execution_count": 2,
   "metadata": {},
   "outputs": [],
   "source": [
    "X = pd.read_csv(\"./data/X_train.csv\")\n",
    "Y = pd.DataFrame(X['Score'])\n",
    "X = X.drop(columns=['Score'])\n",
    "x_train, x_test, y_train, y_test = train_test_split(X, Y, test_size=0.3)"
   ]
  },
  {
   "cell_type": "code",
   "execution_count": 3,
   "metadata": {},
   "outputs": [],
   "source": [
    "x_train = pd.DataFrame(x_train)\n",
    "x_test = pd.DataFrame(x_test)\n",
    "y_train = pd.DataFrame(y_train)\n",
    "y_test = pd.DataFrame(y_test)"
   ]
  },
  {
   "cell_type": "code",
   "execution_count": 4,
   "metadata": {},
   "outputs": [
    {
     "output_type": "execute_result",
     "data": {
      "text/plain": [
       "         Score\n",
       "710357     4.0\n",
       "13931      4.0\n",
       "236730     5.0\n",
       "1397068    5.0\n",
       "1414       5.0\n",
       "...        ...\n",
       "717490     5.0\n",
       "960574     5.0\n",
       "1273054    1.0\n",
       "1115964    4.0\n",
       "984817     5.0\n",
       "\n",
       "[419260 rows x 1 columns]"
      ],
      "text/html": "<div>\n<style scoped>\n    .dataframe tbody tr th:only-of-type {\n        vertical-align: middle;\n    }\n\n    .dataframe tbody tr th {\n        vertical-align: top;\n    }\n\n    .dataframe thead th {\n        text-align: right;\n    }\n</style>\n<table border=\"1\" class=\"dataframe\">\n  <thead>\n    <tr style=\"text-align: right;\">\n      <th></th>\n      <th>Score</th>\n    </tr>\n  </thead>\n  <tbody>\n    <tr>\n      <th>710357</th>\n      <td>4.0</td>\n    </tr>\n    <tr>\n      <th>13931</th>\n      <td>4.0</td>\n    </tr>\n    <tr>\n      <th>236730</th>\n      <td>5.0</td>\n    </tr>\n    <tr>\n      <th>1397068</th>\n      <td>5.0</td>\n    </tr>\n    <tr>\n      <th>1414</th>\n      <td>5.0</td>\n    </tr>\n    <tr>\n      <th>...</th>\n      <td>...</td>\n    </tr>\n    <tr>\n      <th>717490</th>\n      <td>5.0</td>\n    </tr>\n    <tr>\n      <th>960574</th>\n      <td>5.0</td>\n    </tr>\n    <tr>\n      <th>1273054</th>\n      <td>1.0</td>\n    </tr>\n    <tr>\n      <th>1115964</th>\n      <td>4.0</td>\n    </tr>\n    <tr>\n      <th>984817</th>\n      <td>5.0</td>\n    </tr>\n  </tbody>\n</table>\n<p>419260 rows × 1 columns</p>\n</div>"
     },
     "metadata": {},
     "execution_count": 4
    }
   ],
   "source": [
    "y_test"
   ]
  },
  {
   "cell_type": "code",
   "execution_count": 6,
   "metadata": {},
   "outputs": [
    {
     "output_type": "execute_result",
     "data": {
      "text/plain": [
       "          ProductId  HelpfulnessNumerator  HelpfulnessDenominator        Time\n",
       "90727    0790742446                    15                      18  1098748800\n",
       "470003   B000056VP3                     1                       2  1035331200\n",
       "347008   6304435096                     2                       8  1091318400\n",
       "1325258  B00AFDN5Y0                     1                       2  1359331200\n",
       "351778   6304510861                     3                       5  1336089600\n",
       "...             ...                   ...                     ...         ...\n",
       "1359161  B00CU2QTGU                     2                       3  1387065600\n",
       "893336   B000S86J3Q                     3                       3  1191801600\n",
       "956987   B0019BI11Y                     3                       4  1222214400\n",
       "595437   B00006SFLV                     1                       1  1196553600\n",
       "499921   B00005JLWN                     4                       4  1039392000\n",
       "\n",
       "[978273 rows x 4 columns]"
      ],
      "text/html": "<div>\n<style scoped>\n    .dataframe tbody tr th:only-of-type {\n        vertical-align: middle;\n    }\n\n    .dataframe tbody tr th {\n        vertical-align: top;\n    }\n\n    .dataframe thead th {\n        text-align: right;\n    }\n</style>\n<table border=\"1\" class=\"dataframe\">\n  <thead>\n    <tr style=\"text-align: right;\">\n      <th></th>\n      <th>ProductId</th>\n      <th>HelpfulnessNumerator</th>\n      <th>HelpfulnessDenominator</th>\n      <th>Time</th>\n    </tr>\n  </thead>\n  <tbody>\n    <tr>\n      <th>90727</th>\n      <td>0790742446</td>\n      <td>15</td>\n      <td>18</td>\n      <td>1098748800</td>\n    </tr>\n    <tr>\n      <th>470003</th>\n      <td>B000056VP3</td>\n      <td>1</td>\n      <td>2</td>\n      <td>1035331200</td>\n    </tr>\n    <tr>\n      <th>347008</th>\n      <td>6304435096</td>\n      <td>2</td>\n      <td>8</td>\n      <td>1091318400</td>\n    </tr>\n    <tr>\n      <th>1325258</th>\n      <td>B00AFDN5Y0</td>\n      <td>1</td>\n      <td>2</td>\n      <td>1359331200</td>\n    </tr>\n    <tr>\n      <th>351778</th>\n      <td>6304510861</td>\n      <td>3</td>\n      <td>5</td>\n      <td>1336089600</td>\n    </tr>\n    <tr>\n      <th>...</th>\n      <td>...</td>\n      <td>...</td>\n      <td>...</td>\n      <td>...</td>\n    </tr>\n    <tr>\n      <th>1359161</th>\n      <td>B00CU2QTGU</td>\n      <td>2</td>\n      <td>3</td>\n      <td>1387065600</td>\n    </tr>\n    <tr>\n      <th>893336</th>\n      <td>B000S86J3Q</td>\n      <td>3</td>\n      <td>3</td>\n      <td>1191801600</td>\n    </tr>\n    <tr>\n      <th>956987</th>\n      <td>B0019BI11Y</td>\n      <td>3</td>\n      <td>4</td>\n      <td>1222214400</td>\n    </tr>\n    <tr>\n      <th>595437</th>\n      <td>B00006SFLV</td>\n      <td>1</td>\n      <td>1</td>\n      <td>1196553600</td>\n    </tr>\n    <tr>\n      <th>499921</th>\n      <td>B00005JLWN</td>\n      <td>4</td>\n      <td>4</td>\n      <td>1039392000</td>\n    </tr>\n  </tbody>\n</table>\n<p>978273 rows × 4 columns</p>\n</div>"
     },
     "metadata": {},
     "execution_count": 6
    }
   ],
   "source": [
    "x_train_features = x_train.drop(columns=['Id', 'UserId', 'Text', 'Summary'])\n",
    "x_test_features = x_test.drop(columns=['Id', 'UserId', 'Text', 'Summary'])\n",
    "\n",
    "x_train_features"
   ]
  },
  {
   "cell_type": "code",
   "execution_count": 10,
   "metadata": {},
   "outputs": [],
   "source": [
    "le = LabelEncoder()"
   ]
  },
  {
   "cell_type": "code",
   "execution_count": 17,
   "metadata": {},
   "outputs": [],
   "source": [
    "predictionSet = pd.read_csv(\"./data/prediction.csv\")\n",
    "x_predict = predictionSet.drop(columns=['Id', 'UserId', 'Text', 'Summary', 'Score'])"
   ]
  },
  {
   "cell_type": "code",
   "execution_count": 18,
   "metadata": {},
   "outputs": [
    {
     "output_type": "execute_result",
     "data": {
      "text/plain": [
       "         ProductId  HelpfulnessNumerator  HelpfulnessDenominator        Time\n",
       "90727         1358                    15                      18  1098748800\n",
       "470003       12736                     1                       2  1035331200\n",
       "347008        8566                     2                       8  1091318400\n",
       "1325258      47386                     1                       2  1359331200\n",
       "351778        8692                     3                       5  1336089600\n",
       "...            ...                   ...                     ...         ...\n",
       "1359161      48480                     2                       3  1387065600\n",
       "893336       31190                     3                       3  1191801600\n",
       "956987       34197                     3                       4  1222214400\n",
       "595437       16454                     1                       1  1196553600\n",
       "499921       13468                     4                       4  1039392000\n",
       "\n",
       "[978273 rows x 4 columns]"
      ],
      "text/html": "<div>\n<style scoped>\n    .dataframe tbody tr th:only-of-type {\n        vertical-align: middle;\n    }\n\n    .dataframe tbody tr th {\n        vertical-align: top;\n    }\n\n    .dataframe thead th {\n        text-align: right;\n    }\n</style>\n<table border=\"1\" class=\"dataframe\">\n  <thead>\n    <tr style=\"text-align: right;\">\n      <th></th>\n      <th>ProductId</th>\n      <th>HelpfulnessNumerator</th>\n      <th>HelpfulnessDenominator</th>\n      <th>Time</th>\n    </tr>\n  </thead>\n  <tbody>\n    <tr>\n      <th>90727</th>\n      <td>1358</td>\n      <td>15</td>\n      <td>18</td>\n      <td>1098748800</td>\n    </tr>\n    <tr>\n      <th>470003</th>\n      <td>12736</td>\n      <td>1</td>\n      <td>2</td>\n      <td>1035331200</td>\n    </tr>\n    <tr>\n      <th>347008</th>\n      <td>8566</td>\n      <td>2</td>\n      <td>8</td>\n      <td>1091318400</td>\n    </tr>\n    <tr>\n      <th>1325258</th>\n      <td>47386</td>\n      <td>1</td>\n      <td>2</td>\n      <td>1359331200</td>\n    </tr>\n    <tr>\n      <th>351778</th>\n      <td>8692</td>\n      <td>3</td>\n      <td>5</td>\n      <td>1336089600</td>\n    </tr>\n    <tr>\n      <th>...</th>\n      <td>...</td>\n      <td>...</td>\n      <td>...</td>\n      <td>...</td>\n    </tr>\n    <tr>\n      <th>1359161</th>\n      <td>48480</td>\n      <td>2</td>\n      <td>3</td>\n      <td>1387065600</td>\n    </tr>\n    <tr>\n      <th>893336</th>\n      <td>31190</td>\n      <td>3</td>\n      <td>3</td>\n      <td>1191801600</td>\n    </tr>\n    <tr>\n      <th>956987</th>\n      <td>34197</td>\n      <td>3</td>\n      <td>4</td>\n      <td>1222214400</td>\n    </tr>\n    <tr>\n      <th>595437</th>\n      <td>16454</td>\n      <td>1</td>\n      <td>1</td>\n      <td>1196553600</td>\n    </tr>\n    <tr>\n      <th>499921</th>\n      <td>13468</td>\n      <td>4</td>\n      <td>4</td>\n      <td>1039392000</td>\n    </tr>\n  </tbody>\n</table>\n<p>978273 rows × 4 columns</p>\n</div>"
     },
     "metadata": {},
     "execution_count": 18
    }
   ],
   "source": [
    "x_train_features['ProductId'] = le.fit_transform(pd.DataFrame(x_train_features['ProductId']))\n",
    "x_test_features['ProductId'] = le.fit_transform(pd.DataFrame(x_test_features['ProductId']))\n",
    "x_predict['ProductId'] = le.fit_transform(pd.DataFrame(x_predict['ProductId']))\n",
    "x_train_features"
   ]
  },
  {
   "cell_type": "code",
   "execution_count": 19,
   "metadata": {},
   "outputs": [
    {
     "output_type": "execute_result",
     "data": {
      "text/plain": [
       "        ProductId  HelpfulnessNumerator  HelpfulnessDenominator        Time\n",
       "0               0                     0                       0  1383696000\n",
       "1               0                     0                       0  1390780800\n",
       "2               0                     0                       0  1389657600\n",
       "3               0                    10                      14  1132963200\n",
       "4               0                     0                       1  1384905600\n",
       "...           ...                   ...                     ...         ...\n",
       "299995      43359                     0                       1  1404345600\n",
       "299996      43360                    25                      88  1405555200\n",
       "299997      43360                     3                      10  1405728000\n",
       "299998      43360                    10                      14  1405987200\n",
       "299999      43360                     1                      14  1406073600\n",
       "\n",
       "[300000 rows x 4 columns]"
      ],
      "text/html": "<div>\n<style scoped>\n    .dataframe tbody tr th:only-of-type {\n        vertical-align: middle;\n    }\n\n    .dataframe tbody tr th {\n        vertical-align: top;\n    }\n\n    .dataframe thead th {\n        text-align: right;\n    }\n</style>\n<table border=\"1\" class=\"dataframe\">\n  <thead>\n    <tr style=\"text-align: right;\">\n      <th></th>\n      <th>ProductId</th>\n      <th>HelpfulnessNumerator</th>\n      <th>HelpfulnessDenominator</th>\n      <th>Time</th>\n    </tr>\n  </thead>\n  <tbody>\n    <tr>\n      <th>0</th>\n      <td>0</td>\n      <td>0</td>\n      <td>0</td>\n      <td>1383696000</td>\n    </tr>\n    <tr>\n      <th>1</th>\n      <td>0</td>\n      <td>0</td>\n      <td>0</td>\n      <td>1390780800</td>\n    </tr>\n    <tr>\n      <th>2</th>\n      <td>0</td>\n      <td>0</td>\n      <td>0</td>\n      <td>1389657600</td>\n    </tr>\n    <tr>\n      <th>3</th>\n      <td>0</td>\n      <td>10</td>\n      <td>14</td>\n      <td>1132963200</td>\n    </tr>\n    <tr>\n      <th>4</th>\n      <td>0</td>\n      <td>0</td>\n      <td>1</td>\n      <td>1384905600</td>\n    </tr>\n    <tr>\n      <th>...</th>\n      <td>...</td>\n      <td>...</td>\n      <td>...</td>\n      <td>...</td>\n    </tr>\n    <tr>\n      <th>299995</th>\n      <td>43359</td>\n      <td>0</td>\n      <td>1</td>\n      <td>1404345600</td>\n    </tr>\n    <tr>\n      <th>299996</th>\n      <td>43360</td>\n      <td>25</td>\n      <td>88</td>\n      <td>1405555200</td>\n    </tr>\n    <tr>\n      <th>299997</th>\n      <td>43360</td>\n      <td>3</td>\n      <td>10</td>\n      <td>1405728000</td>\n    </tr>\n    <tr>\n      <th>299998</th>\n      <td>43360</td>\n      <td>10</td>\n      <td>14</td>\n      <td>1405987200</td>\n    </tr>\n    <tr>\n      <th>299999</th>\n      <td>43360</td>\n      <td>1</td>\n      <td>14</td>\n      <td>1406073600</td>\n    </tr>\n  </tbody>\n</table>\n<p>300000 rows × 4 columns</p>\n</div>"
     },
     "metadata": {},
     "execution_count": 19
    }
   ],
   "source": [
    "x_predict"
   ]
  },
  {
   "cell_type": "code",
   "execution_count": 6,
   "metadata": {},
   "outputs": [
    {
     "output_type": "execute_result",
     "data": {
      "text/plain": [
       "(419260, 9)"
      ]
     },
     "metadata": {},
     "execution_count": 6
    }
   ],
   "source": [
    "model = KNeighborsClassifier(n_neighbors=3).fit(x_train_features, y_train)\n",
    "predictionSet['Score'] = model.predict(x_predict)\n",
    "x_test['Score'] = model.predict(x_test_features)\n",
    "\n",
    "x_test.shape"
   ]
  },
  {
   "cell_type": "code",
   "execution_count": 11,
   "metadata": {},
   "outputs": [
    {
     "output_type": "execute_result",
     "data": {
      "text/plain": [
       "              Id   ProductId          UserId  HelpfulnessNumerator  \\\n",
       "2              2  0005019281  A3UORV8A9D5L2E                     0   \n",
       "3              3  0005019281  A1VKW06X1O2X7V                     0   \n",
       "4              4  0005019281  A3R27T4HADWFFJ                     0   \n",
       "10            12  0005019281   AG8D804FUG5Y4                     0   \n",
       "15            18  0005019281  A3UEOL981G9TXY                     0   \n",
       "...          ...         ...             ...                   ...   \n",
       "1397524  1697519  B00LH9ROKM   AER15RIMV8E6D                     0   \n",
       "1397525  1697521  B00LH9ROKM  A1Q3GEO516I4VK                     0   \n",
       "1397526  1697523  B00LT1JHLW   APO10VQE3MAKE                     2   \n",
       "1397530  1697530  B00LT1JHLW  A3DE438TF1A958                     3   \n",
       "1397532  1697532  B00LT1JHLW  A3ROPC55BE2OM9                    11   \n",
       "\n",
       "         HelpfulnessDenominator        Time  \\\n",
       "2                             0  1388361600   \n",
       "3                             0  1202860800   \n",
       "4                             0  1387670400   \n",
       "10                            1  1199836800   \n",
       "15                            0  1328227200   \n",
       "...                         ...         ...   \n",
       "1397524                       0  1405296000   \n",
       "1397525                       0  1404518400   \n",
       "1397526                       9  1405900800   \n",
       "1397530                      10  1405728000   \n",
       "1397532                      23  1405728000   \n",
       "\n",
       "                                                   Summary  \\\n",
       "2                    Winkler's Performance was ok at best!   \n",
       "3             It's an enjoyable twist on the classic story   \n",
       "4                                         Best Scrooge yet   \n",
       "10                                               Christmas   \n",
       "15                             An American Christmas Carol   \n",
       "...                                                    ...   \n",
       "1397524                               Creepy & Chilling!!!   \n",
       "1397525  Intense and compelling, with a dose of silly o...   \n",
       "1397526                                           Finally!   \n",
       "1397530  prayers have been answered because batman 60s ...   \n",
       "1397532  The Price is Insane? People Really Need to Wak...   \n",
       "\n",
       "                                                      Text  Score  \n",
       "2        Don't get me wrong, Winkler is a wonderful cha...    4.0  \n",
       "3        Henry Winkler is very good in this twist on th...    5.0  \n",
       "4        This is one of the best Scrooge movies out.  H...    3.0  \n",
       "10       My wife told me of this movie in which Henry W...    3.0  \n",
       "15       Henry Winkler played a great part as Scrooge. ...    3.0  \n",
       "...                                                    ...    ...  \n",
       "1397524  This is the 1st horror film of 2014 I've seen,...    5.0  \n",
       "1397525  While not nearly as terrifying as say, The Con...    4.0  \n",
       "1397526  Well it is finally coming to fruition!  Batman...    1.0  \n",
       "1397530  Could this be a true or I'm i dreaming batman ...    1.0  \n",
       "1397532  People seriously need to wake up and realize t...    1.0  \n",
       "\n",
       "[419260 rows x 9 columns]"
      ],
      "text/html": "<div>\n<style scoped>\n    .dataframe tbody tr th:only-of-type {\n        vertical-align: middle;\n    }\n\n    .dataframe tbody tr th {\n        vertical-align: top;\n    }\n\n    .dataframe thead th {\n        text-align: right;\n    }\n</style>\n<table border=\"1\" class=\"dataframe\">\n  <thead>\n    <tr style=\"text-align: right;\">\n      <th></th>\n      <th>Id</th>\n      <th>ProductId</th>\n      <th>UserId</th>\n      <th>HelpfulnessNumerator</th>\n      <th>HelpfulnessDenominator</th>\n      <th>Time</th>\n      <th>Summary</th>\n      <th>Text</th>\n      <th>Score</th>\n    </tr>\n  </thead>\n  <tbody>\n    <tr>\n      <th>2</th>\n      <td>2</td>\n      <td>0005019281</td>\n      <td>A3UORV8A9D5L2E</td>\n      <td>0</td>\n      <td>0</td>\n      <td>1388361600</td>\n      <td>Winkler's Performance was ok at best!</td>\n      <td>Don't get me wrong, Winkler is a wonderful cha...</td>\n      <td>4.0</td>\n    </tr>\n    <tr>\n      <th>3</th>\n      <td>3</td>\n      <td>0005019281</td>\n      <td>A1VKW06X1O2X7V</td>\n      <td>0</td>\n      <td>0</td>\n      <td>1202860800</td>\n      <td>It's an enjoyable twist on the classic story</td>\n      <td>Henry Winkler is very good in this twist on th...</td>\n      <td>5.0</td>\n    </tr>\n    <tr>\n      <th>4</th>\n      <td>4</td>\n      <td>0005019281</td>\n      <td>A3R27T4HADWFFJ</td>\n      <td>0</td>\n      <td>0</td>\n      <td>1387670400</td>\n      <td>Best Scrooge yet</td>\n      <td>This is one of the best Scrooge movies out.  H...</td>\n      <td>3.0</td>\n    </tr>\n    <tr>\n      <th>10</th>\n      <td>12</td>\n      <td>0005019281</td>\n      <td>AG8D804FUG5Y4</td>\n      <td>0</td>\n      <td>1</td>\n      <td>1199836800</td>\n      <td>Christmas</td>\n      <td>My wife told me of this movie in which Henry W...</td>\n      <td>3.0</td>\n    </tr>\n    <tr>\n      <th>15</th>\n      <td>18</td>\n      <td>0005019281</td>\n      <td>A3UEOL981G9TXY</td>\n      <td>0</td>\n      <td>0</td>\n      <td>1328227200</td>\n      <td>An American Christmas Carol</td>\n      <td>Henry Winkler played a great part as Scrooge. ...</td>\n      <td>3.0</td>\n    </tr>\n    <tr>\n      <th>...</th>\n      <td>...</td>\n      <td>...</td>\n      <td>...</td>\n      <td>...</td>\n      <td>...</td>\n      <td>...</td>\n      <td>...</td>\n      <td>...</td>\n      <td>...</td>\n    </tr>\n    <tr>\n      <th>1397524</th>\n      <td>1697519</td>\n      <td>B00LH9ROKM</td>\n      <td>AER15RIMV8E6D</td>\n      <td>0</td>\n      <td>0</td>\n      <td>1405296000</td>\n      <td>Creepy &amp; Chilling!!!</td>\n      <td>This is the 1st horror film of 2014 I've seen,...</td>\n      <td>5.0</td>\n    </tr>\n    <tr>\n      <th>1397525</th>\n      <td>1697521</td>\n      <td>B00LH9ROKM</td>\n      <td>A1Q3GEO516I4VK</td>\n      <td>0</td>\n      <td>0</td>\n      <td>1404518400</td>\n      <td>Intense and compelling, with a dose of silly o...</td>\n      <td>While not nearly as terrifying as say, The Con...</td>\n      <td>4.0</td>\n    </tr>\n    <tr>\n      <th>1397526</th>\n      <td>1697523</td>\n      <td>B00LT1JHLW</td>\n      <td>APO10VQE3MAKE</td>\n      <td>2</td>\n      <td>9</td>\n      <td>1405900800</td>\n      <td>Finally!</td>\n      <td>Well it is finally coming to fruition!  Batman...</td>\n      <td>1.0</td>\n    </tr>\n    <tr>\n      <th>1397530</th>\n      <td>1697530</td>\n      <td>B00LT1JHLW</td>\n      <td>A3DE438TF1A958</td>\n      <td>3</td>\n      <td>10</td>\n      <td>1405728000</td>\n      <td>prayers have been answered because batman 60s ...</td>\n      <td>Could this be a true or I'm i dreaming batman ...</td>\n      <td>1.0</td>\n    </tr>\n    <tr>\n      <th>1397532</th>\n      <td>1697532</td>\n      <td>B00LT1JHLW</td>\n      <td>A3ROPC55BE2OM9</td>\n      <td>11</td>\n      <td>23</td>\n      <td>1405728000</td>\n      <td>The Price is Insane? People Really Need to Wak...</td>\n      <td>People seriously need to wake up and realize t...</td>\n      <td>1.0</td>\n    </tr>\n  </tbody>\n</table>\n<p>419260 rows × 9 columns</p>\n</div>"
     },
     "metadata": {},
     "execution_count": 11
    }
   ],
   "source": [
    "x_test = x_test.sort_values(by=['Id'])\n",
    "x_test"
   ]
  },
  {
   "cell_type": "code",
   "execution_count": 12,
   "metadata": {},
   "outputs": [
    {
     "output_type": "execute_result",
     "data": {
      "text/plain": [
       "              Id  Score\n",
       "2              2    4.0\n",
       "3              3    5.0\n",
       "4              4    3.0\n",
       "10            12    3.0\n",
       "15            18    3.0\n",
       "...          ...    ...\n",
       "1397524  1697519    5.0\n",
       "1397525  1697521    4.0\n",
       "1397526  1697523    1.0\n",
       "1397530  1697530    1.0\n",
       "1397532  1697532    1.0\n",
       "\n",
       "[419260 rows x 2 columns]"
      ],
      "text/html": "<div>\n<style scoped>\n    .dataframe tbody tr th:only-of-type {\n        vertical-align: middle;\n    }\n\n    .dataframe tbody tr th {\n        vertical-align: top;\n    }\n\n    .dataframe thead th {\n        text-align: right;\n    }\n</style>\n<table border=\"1\" class=\"dataframe\">\n  <thead>\n    <tr style=\"text-align: right;\">\n      <th></th>\n      <th>Id</th>\n      <th>Score</th>\n    </tr>\n  </thead>\n  <tbody>\n    <tr>\n      <th>2</th>\n      <td>2</td>\n      <td>4.0</td>\n    </tr>\n    <tr>\n      <th>3</th>\n      <td>3</td>\n      <td>5.0</td>\n    </tr>\n    <tr>\n      <th>4</th>\n      <td>4</td>\n      <td>3.0</td>\n    </tr>\n    <tr>\n      <th>10</th>\n      <td>12</td>\n      <td>3.0</td>\n    </tr>\n    <tr>\n      <th>15</th>\n      <td>18</td>\n      <td>3.0</td>\n    </tr>\n    <tr>\n      <th>...</th>\n      <td>...</td>\n      <td>...</td>\n    </tr>\n    <tr>\n      <th>1397524</th>\n      <td>1697519</td>\n      <td>5.0</td>\n    </tr>\n    <tr>\n      <th>1397525</th>\n      <td>1697521</td>\n      <td>4.0</td>\n    </tr>\n    <tr>\n      <th>1397526</th>\n      <td>1697523</td>\n      <td>1.0</td>\n    </tr>\n    <tr>\n      <th>1397530</th>\n      <td>1697530</td>\n      <td>1.0</td>\n    </tr>\n    <tr>\n      <th>1397532</th>\n      <td>1697532</td>\n      <td>1.0</td>\n    </tr>\n  </tbody>\n</table>\n<p>419260 rows × 2 columns</p>\n</div>"
     },
     "metadata": {},
     "execution_count": 12
    }
   ],
   "source": [
    "submission = predictionSet[['Id', 'Score']]\n",
    "submission_offline = x_test[['Id', 'Score']]\n",
    "\n",
    "submission_offline"
   ]
  },
  {
   "cell_type": "code",
   "execution_count": 13,
   "metadata": {},
   "outputs": [],
   "source": [
    "submission.to_csv(\"./data/submission.csv\", index=False)\n",
    "submission_offline.to_csv(\"./data/submission_offline.csv\", index=False)"
   ]
  },
  {
   "source": [
    "# Now Evaluator Code"
   ],
   "cell_type": "markdown",
   "metadata": {}
  },
  {
   "cell_type": "code",
   "execution_count": 3,
   "metadata": {},
   "outputs": [],
   "source": [
    "from sklearn.metrics import mean_squared_error\n",
    "import pandas as pd\n"
   ]
  },
  {
   "cell_type": "code",
   "execution_count": 4,
   "metadata": {},
   "outputs": [],
   "source": [
    "y_predict = pd.read_csv(\"./data/submission_offline.csv\")\n",
    "train = pd.read_csv(\"./data/X_train.csv\")"
   ]
  },
  {
   "cell_type": "code",
   "execution_count": 5,
   "metadata": {},
   "outputs": [
    {
     "output_type": "execute_result",
     "data": {
      "text/plain": [
       "             Id\n",
       "0             2\n",
       "1             3\n",
       "2             4\n",
       "3            12\n",
       "4            18\n",
       "...         ...\n",
       "419255  1697519\n",
       "419256  1697521\n",
       "419257  1697523\n",
       "419258  1697530\n",
       "419259  1697532\n",
       "\n",
       "[419260 rows x 1 columns]"
      ],
      "text/html": "<div>\n<style scoped>\n    .dataframe tbody tr th:only-of-type {\n        vertical-align: middle;\n    }\n\n    .dataframe tbody tr th {\n        vertical-align: top;\n    }\n\n    .dataframe thead th {\n        text-align: right;\n    }\n</style>\n<table border=\"1\" class=\"dataframe\">\n  <thead>\n    <tr style=\"text-align: right;\">\n      <th></th>\n      <th>Id</th>\n    </tr>\n  </thead>\n  <tbody>\n    <tr>\n      <th>0</th>\n      <td>2</td>\n    </tr>\n    <tr>\n      <th>1</th>\n      <td>3</td>\n    </tr>\n    <tr>\n      <th>2</th>\n      <td>4</td>\n    </tr>\n    <tr>\n      <th>3</th>\n      <td>12</td>\n    </tr>\n    <tr>\n      <th>4</th>\n      <td>18</td>\n    </tr>\n    <tr>\n      <th>...</th>\n      <td>...</td>\n    </tr>\n    <tr>\n      <th>419255</th>\n      <td>1697519</td>\n    </tr>\n    <tr>\n      <th>419256</th>\n      <td>1697521</td>\n    </tr>\n    <tr>\n      <th>419257</th>\n      <td>1697523</td>\n    </tr>\n    <tr>\n      <th>419258</th>\n      <td>1697530</td>\n    </tr>\n    <tr>\n      <th>419259</th>\n      <td>1697532</td>\n    </tr>\n  </tbody>\n</table>\n<p>419260 rows × 1 columns</p>\n</div>"
     },
     "metadata": {},
     "execution_count": 5
    }
   ],
   "source": [
    "y_id = y_predict.drop(columns=['Score'])\n",
    "y_id"
   ]
  },
  {
   "cell_type": "code",
   "execution_count": 6,
   "metadata": {},
   "outputs": [],
   "source": [
    "y_true = pd.merge(train, y_id, left_on='Id', right_on='Id')"
   ]
  },
  {
   "cell_type": "code",
   "execution_count": 7,
   "metadata": {},
   "outputs": [
    {
     "output_type": "execute_result",
     "data": {
      "text/plain": [
       "             Id  Score\n",
       "0             2    4.0\n",
       "1             3    5.0\n",
       "2             4    3.0\n",
       "3            12    3.0\n",
       "4            18    3.0\n",
       "...         ...    ...\n",
       "419255  1697519    5.0\n",
       "419256  1697521    4.0\n",
       "419257  1697523    1.0\n",
       "419258  1697530    1.0\n",
       "419259  1697532    1.0\n",
       "\n",
       "[419260 rows x 2 columns]"
      ],
      "text/html": "<div>\n<style scoped>\n    .dataframe tbody tr th:only-of-type {\n        vertical-align: middle;\n    }\n\n    .dataframe tbody tr th {\n        vertical-align: top;\n    }\n\n    .dataframe thead th {\n        text-align: right;\n    }\n</style>\n<table border=\"1\" class=\"dataframe\">\n  <thead>\n    <tr style=\"text-align: right;\">\n      <th></th>\n      <th>Id</th>\n      <th>Score</th>\n    </tr>\n  </thead>\n  <tbody>\n    <tr>\n      <th>0</th>\n      <td>2</td>\n      <td>4.0</td>\n    </tr>\n    <tr>\n      <th>1</th>\n      <td>3</td>\n      <td>5.0</td>\n    </tr>\n    <tr>\n      <th>2</th>\n      <td>4</td>\n      <td>3.0</td>\n    </tr>\n    <tr>\n      <th>3</th>\n      <td>12</td>\n      <td>3.0</td>\n    </tr>\n    <tr>\n      <th>4</th>\n      <td>18</td>\n      <td>3.0</td>\n    </tr>\n    <tr>\n      <th>...</th>\n      <td>...</td>\n      <td>...</td>\n    </tr>\n    <tr>\n      <th>419255</th>\n      <td>1697519</td>\n      <td>5.0</td>\n    </tr>\n    <tr>\n      <th>419256</th>\n      <td>1697521</td>\n      <td>4.0</td>\n    </tr>\n    <tr>\n      <th>419257</th>\n      <td>1697523</td>\n      <td>1.0</td>\n    </tr>\n    <tr>\n      <th>419258</th>\n      <td>1697530</td>\n      <td>1.0</td>\n    </tr>\n    <tr>\n      <th>419259</th>\n      <td>1697532</td>\n      <td>1.0</td>\n    </tr>\n  </tbody>\n</table>\n<p>419260 rows × 2 columns</p>\n</div>"
     },
     "metadata": {},
     "execution_count": 7
    }
   ],
   "source": [
    "y_predict"
   ]
  },
  {
   "cell_type": "code",
   "execution_count": 8,
   "metadata": {},
   "outputs": [
    {
     "output_type": "execute_result",
     "data": {
      "text/plain": [
       "             Id   ProductId          UserId  HelpfulnessNumerator  \\\n",
       "0             2  0005019281  A3UORV8A9D5L2E                     0   \n",
       "1             3  0005019281  A1VKW06X1O2X7V                     0   \n",
       "2             4  0005019281  A3R27T4HADWFFJ                     0   \n",
       "3            12  0005019281   AG8D804FUG5Y4                     0   \n",
       "4            18  0005019281  A3UEOL981G9TXY                     0   \n",
       "...         ...         ...             ...                   ...   \n",
       "419255  1697519  B00LH9ROKM   AER15RIMV8E6D                     0   \n",
       "419256  1697521  B00LH9ROKM  A1Q3GEO516I4VK                     0   \n",
       "419257  1697523  B00LT1JHLW   APO10VQE3MAKE                     2   \n",
       "419258  1697530  B00LT1JHLW  A3DE438TF1A958                     3   \n",
       "419259  1697532  B00LT1JHLW  A3ROPC55BE2OM9                    11   \n",
       "\n",
       "        HelpfulnessDenominator  Score        Time  \\\n",
       "0                            0    3.0  1388361600   \n",
       "1                            0    5.0  1202860800   \n",
       "2                            0    4.0  1387670400   \n",
       "3                            1    3.0  1199836800   \n",
       "4                            0    5.0  1328227200   \n",
       "...                        ...    ...         ...   \n",
       "419255                       0    4.0  1405296000   \n",
       "419256                       0    4.0  1404518400   \n",
       "419257                       9    5.0  1405900800   \n",
       "419258                      10    5.0  1405728000   \n",
       "419259                      23    5.0  1405728000   \n",
       "\n",
       "                                                  Summary  \\\n",
       "0                   Winkler's Performance was ok at best!   \n",
       "1            It's an enjoyable twist on the classic story   \n",
       "2                                        Best Scrooge yet   \n",
       "3                                               Christmas   \n",
       "4                             An American Christmas Carol   \n",
       "...                                                   ...   \n",
       "419255                               Creepy & Chilling!!!   \n",
       "419256  Intense and compelling, with a dose of silly o...   \n",
       "419257                                           Finally!   \n",
       "419258  prayers have been answered because batman 60s ...   \n",
       "419259  The Price is Insane? People Really Need to Wak...   \n",
       "\n",
       "                                                     Text  \n",
       "0       Don't get me wrong, Winkler is a wonderful cha...  \n",
       "1       Henry Winkler is very good in this twist on th...  \n",
       "2       This is one of the best Scrooge movies out.  H...  \n",
       "3       My wife told me of this movie in which Henry W...  \n",
       "4       Henry Winkler played a great part as Scrooge. ...  \n",
       "...                                                   ...  \n",
       "419255  This is the 1st horror film of 2014 I've seen,...  \n",
       "419256  While not nearly as terrifying as say, The Con...  \n",
       "419257  Well it is finally coming to fruition!  Batman...  \n",
       "419258  Could this be a true or I'm i dreaming batman ...  \n",
       "419259  People seriously need to wake up and realize t...  \n",
       "\n",
       "[419260 rows x 9 columns]"
      ],
      "text/html": "<div>\n<style scoped>\n    .dataframe tbody tr th:only-of-type {\n        vertical-align: middle;\n    }\n\n    .dataframe tbody tr th {\n        vertical-align: top;\n    }\n\n    .dataframe thead th {\n        text-align: right;\n    }\n</style>\n<table border=\"1\" class=\"dataframe\">\n  <thead>\n    <tr style=\"text-align: right;\">\n      <th></th>\n      <th>Id</th>\n      <th>ProductId</th>\n      <th>UserId</th>\n      <th>HelpfulnessNumerator</th>\n      <th>HelpfulnessDenominator</th>\n      <th>Score</th>\n      <th>Time</th>\n      <th>Summary</th>\n      <th>Text</th>\n    </tr>\n  </thead>\n  <tbody>\n    <tr>\n      <th>0</th>\n      <td>2</td>\n      <td>0005019281</td>\n      <td>A3UORV8A9D5L2E</td>\n      <td>0</td>\n      <td>0</td>\n      <td>3.0</td>\n      <td>1388361600</td>\n      <td>Winkler's Performance was ok at best!</td>\n      <td>Don't get me wrong, Winkler is a wonderful cha...</td>\n    </tr>\n    <tr>\n      <th>1</th>\n      <td>3</td>\n      <td>0005019281</td>\n      <td>A1VKW06X1O2X7V</td>\n      <td>0</td>\n      <td>0</td>\n      <td>5.0</td>\n      <td>1202860800</td>\n      <td>It's an enjoyable twist on the classic story</td>\n      <td>Henry Winkler is very good in this twist on th...</td>\n    </tr>\n    <tr>\n      <th>2</th>\n      <td>4</td>\n      <td>0005019281</td>\n      <td>A3R27T4HADWFFJ</td>\n      <td>0</td>\n      <td>0</td>\n      <td>4.0</td>\n      <td>1387670400</td>\n      <td>Best Scrooge yet</td>\n      <td>This is one of the best Scrooge movies out.  H...</td>\n    </tr>\n    <tr>\n      <th>3</th>\n      <td>12</td>\n      <td>0005019281</td>\n      <td>AG8D804FUG5Y4</td>\n      <td>0</td>\n      <td>1</td>\n      <td>3.0</td>\n      <td>1199836800</td>\n      <td>Christmas</td>\n      <td>My wife told me of this movie in which Henry W...</td>\n    </tr>\n    <tr>\n      <th>4</th>\n      <td>18</td>\n      <td>0005019281</td>\n      <td>A3UEOL981G9TXY</td>\n      <td>0</td>\n      <td>0</td>\n      <td>5.0</td>\n      <td>1328227200</td>\n      <td>An American Christmas Carol</td>\n      <td>Henry Winkler played a great part as Scrooge. ...</td>\n    </tr>\n    <tr>\n      <th>...</th>\n      <td>...</td>\n      <td>...</td>\n      <td>...</td>\n      <td>...</td>\n      <td>...</td>\n      <td>...</td>\n      <td>...</td>\n      <td>...</td>\n      <td>...</td>\n    </tr>\n    <tr>\n      <th>419255</th>\n      <td>1697519</td>\n      <td>B00LH9ROKM</td>\n      <td>AER15RIMV8E6D</td>\n      <td>0</td>\n      <td>0</td>\n      <td>4.0</td>\n      <td>1405296000</td>\n      <td>Creepy &amp; Chilling!!!</td>\n      <td>This is the 1st horror film of 2014 I've seen,...</td>\n    </tr>\n    <tr>\n      <th>419256</th>\n      <td>1697521</td>\n      <td>B00LH9ROKM</td>\n      <td>A1Q3GEO516I4VK</td>\n      <td>0</td>\n      <td>0</td>\n      <td>4.0</td>\n      <td>1404518400</td>\n      <td>Intense and compelling, with a dose of silly o...</td>\n      <td>While not nearly as terrifying as say, The Con...</td>\n    </tr>\n    <tr>\n      <th>419257</th>\n      <td>1697523</td>\n      <td>B00LT1JHLW</td>\n      <td>APO10VQE3MAKE</td>\n      <td>2</td>\n      <td>9</td>\n      <td>5.0</td>\n      <td>1405900800</td>\n      <td>Finally!</td>\n      <td>Well it is finally coming to fruition!  Batman...</td>\n    </tr>\n    <tr>\n      <th>419258</th>\n      <td>1697530</td>\n      <td>B00LT1JHLW</td>\n      <td>A3DE438TF1A958</td>\n      <td>3</td>\n      <td>10</td>\n      <td>5.0</td>\n      <td>1405728000</td>\n      <td>prayers have been answered because batman 60s ...</td>\n      <td>Could this be a true or I'm i dreaming batman ...</td>\n    </tr>\n    <tr>\n      <th>419259</th>\n      <td>1697532</td>\n      <td>B00LT1JHLW</td>\n      <td>A3ROPC55BE2OM9</td>\n      <td>11</td>\n      <td>23</td>\n      <td>5.0</td>\n      <td>1405728000</td>\n      <td>The Price is Insane? People Really Need to Wak...</td>\n      <td>People seriously need to wake up and realize t...</td>\n    </tr>\n  </tbody>\n</table>\n<p>419260 rows × 9 columns</p>\n</div>"
     },
     "metadata": {},
     "execution_count": 8
    }
   ],
   "source": [
    "y_true"
   ]
  },
  {
   "cell_type": "code",
   "execution_count": 9,
   "metadata": {},
   "outputs": [],
   "source": [
    "y_predict = y_predict['Score']\n",
    "y_true = y_true['Score']"
   ]
  },
  {
   "cell_type": "code",
   "execution_count": 10,
   "metadata": {},
   "outputs": [
    {
     "output_type": "execute_result",
     "data": {
      "text/plain": [
       "0         4.0\n",
       "1         5.0\n",
       "2         3.0\n",
       "3         3.0\n",
       "4         3.0\n",
       "         ... \n",
       "419255    5.0\n",
       "419256    4.0\n",
       "419257    1.0\n",
       "419258    1.0\n",
       "419259    1.0\n",
       "Name: Score, Length: 419260, dtype: float64"
      ]
     },
     "metadata": {},
     "execution_count": 10
    }
   ],
   "source": [
    "y_predict"
   ]
  },
  {
   "cell_type": "code",
   "execution_count": 11,
   "metadata": {},
   "outputs": [
    {
     "output_type": "execute_result",
     "data": {
      "text/plain": [
       "0         3.0\n",
       "1         5.0\n",
       "2         4.0\n",
       "3         3.0\n",
       "4         5.0\n",
       "         ... \n",
       "419255    4.0\n",
       "419256    4.0\n",
       "419257    5.0\n",
       "419258    5.0\n",
       "419259    5.0\n",
       "Name: Score, Length: 419260, dtype: float64"
      ]
     },
     "metadata": {},
     "execution_count": 11
    }
   ],
   "source": [
    "y_true"
   ]
  },
  {
   "cell_type": "code",
   "execution_count": 12,
   "metadata": {},
   "outputs": [
    {
     "output_type": "execute_result",
     "data": {
      "text/plain": [
       "1.5737790563022567"
      ]
     },
     "metadata": {},
     "execution_count": 12
    }
   ],
   "source": [
    "rmse = mean_squared_error(y_true, y_predict, squared=False)\n",
    "rmse"
   ]
  },
  {
   "cell_type": "code",
   "execution_count": null,
   "metadata": {},
   "outputs": [],
   "source": []
  }
 ]
}