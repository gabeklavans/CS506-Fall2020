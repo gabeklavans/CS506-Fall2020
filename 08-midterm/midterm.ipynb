{
 "metadata": {
  "language_info": {
   "codemirror_mode": {
    "name": "ipython",
    "version": 3
   },
   "file_extension": ".py",
   "mimetype": "text/x-python",
   "name": "python",
   "nbconvert_exporter": "python",
   "pygments_lexer": "ipython3",
   "version": "3.8.3-final"
  },
  "orig_nbformat": 2,
  "kernelspec": {
   "name": "python3",
   "display_name": "Python 3"
  }
 },
 "nbformat": 4,
 "nbformat_minor": 2,
 "cells": [
  {
   "cell_type": "code",
   "execution_count": 1,
   "metadata": {},
   "outputs": [],
   "source": [
    "import pandas as pd\n",
    "from sklearn.neighbors import KNeighborsClassifier\n",
    "from sklearn.model_selection import train_test_split"
   ]
  },
  {
   "cell_type": "code",
   "execution_count": 2,
   "metadata": {},
   "outputs": [],
   "source": [
    "X = pd.read_csv(\"./data/X_train.csv\")\n",
    "Y = pd.DataFrame(X['Score'])\n",
    "X = X.drop(columns=['Score'])\n",
    "x_train, x_test, y_train, y_test = train_test_split(X, Y, test_size=0.3)"
   ]
  },
  {
   "cell_type": "code",
   "execution_count": 3,
   "metadata": {},
   "outputs": [
    {
     "output_type": "execute_result",
     "data": {
      "text/plain": [
       "         Score\n",
       "1125688    5.0\n",
       "1003268    3.0\n",
       "1149789    5.0\n",
       "1341565    2.0\n",
       "98544      5.0\n",
       "...        ...\n",
       "267175     3.0\n",
       "285237     4.0\n",
       "871797     1.0\n",
       "1014577    5.0\n",
       "982174     5.0\n",
       "\n",
       "[419260 rows x 1 columns]"
      ],
      "text/html": "<div>\n<style scoped>\n    .dataframe tbody tr th:only-of-type {\n        vertical-align: middle;\n    }\n\n    .dataframe tbody tr th {\n        vertical-align: top;\n    }\n\n    .dataframe thead th {\n        text-align: right;\n    }\n</style>\n<table border=\"1\" class=\"dataframe\">\n  <thead>\n    <tr style=\"text-align: right;\">\n      <th></th>\n      <th>Score</th>\n    </tr>\n  </thead>\n  <tbody>\n    <tr>\n      <th>1125688</th>\n      <td>5.0</td>\n    </tr>\n    <tr>\n      <th>1003268</th>\n      <td>3.0</td>\n    </tr>\n    <tr>\n      <th>1149789</th>\n      <td>5.0</td>\n    </tr>\n    <tr>\n      <th>1341565</th>\n      <td>2.0</td>\n    </tr>\n    <tr>\n      <th>98544</th>\n      <td>5.0</td>\n    </tr>\n    <tr>\n      <th>...</th>\n      <td>...</td>\n    </tr>\n    <tr>\n      <th>267175</th>\n      <td>3.0</td>\n    </tr>\n    <tr>\n      <th>285237</th>\n      <td>4.0</td>\n    </tr>\n    <tr>\n      <th>871797</th>\n      <td>1.0</td>\n    </tr>\n    <tr>\n      <th>1014577</th>\n      <td>5.0</td>\n    </tr>\n    <tr>\n      <th>982174</th>\n      <td>5.0</td>\n    </tr>\n  </tbody>\n</table>\n<p>419260 rows × 1 columns</p>\n</div>"
     },
     "metadata": {},
     "execution_count": 3
    }
   ],
   "source": [
    "y_test"
   ]
  },
  {
   "cell_type": "code",
   "execution_count": 4,
   "metadata": {},
   "outputs": [
    {
     "output_type": "execute_result",
     "data": {
      "text/plain": [
       "         HelpfulnessNumerator  HelpfulnessDenominator        Time\n",
       "880846                      5                       5  1218585600\n",
       "1359338                     0                       0  1377820800\n",
       "803990                      7                      10  1133395200\n",
       "131075                      0                       4  1351209600\n",
       "1155514                     0                       0  1404950400\n",
       "...                       ...                     ...         ...\n",
       "609244                      0                       0  1361404800\n",
       "119611                      0                       2  1178928000\n",
       "396813                      0                       0  1389312000\n",
       "1111294                     0                       0  1385596800\n",
       "808985                      4                       5  1303344000\n",
       "\n",
       "[978273 rows x 3 columns]"
      ],
      "text/html": "<div>\n<style scoped>\n    .dataframe tbody tr th:only-of-type {\n        vertical-align: middle;\n    }\n\n    .dataframe tbody tr th {\n        vertical-align: top;\n    }\n\n    .dataframe thead th {\n        text-align: right;\n    }\n</style>\n<table border=\"1\" class=\"dataframe\">\n  <thead>\n    <tr style=\"text-align: right;\">\n      <th></th>\n      <th>HelpfulnessNumerator</th>\n      <th>HelpfulnessDenominator</th>\n      <th>Time</th>\n    </tr>\n  </thead>\n  <tbody>\n    <tr>\n      <th>880846</th>\n      <td>5</td>\n      <td>5</td>\n      <td>1218585600</td>\n    </tr>\n    <tr>\n      <th>1359338</th>\n      <td>0</td>\n      <td>0</td>\n      <td>1377820800</td>\n    </tr>\n    <tr>\n      <th>803990</th>\n      <td>7</td>\n      <td>10</td>\n      <td>1133395200</td>\n    </tr>\n    <tr>\n      <th>131075</th>\n      <td>0</td>\n      <td>4</td>\n      <td>1351209600</td>\n    </tr>\n    <tr>\n      <th>1155514</th>\n      <td>0</td>\n      <td>0</td>\n      <td>1404950400</td>\n    </tr>\n    <tr>\n      <th>...</th>\n      <td>...</td>\n      <td>...</td>\n      <td>...</td>\n    </tr>\n    <tr>\n      <th>609244</th>\n      <td>0</td>\n      <td>0</td>\n      <td>1361404800</td>\n    </tr>\n    <tr>\n      <th>119611</th>\n      <td>0</td>\n      <td>2</td>\n      <td>1178928000</td>\n    </tr>\n    <tr>\n      <th>396813</th>\n      <td>0</td>\n      <td>0</td>\n      <td>1389312000</td>\n    </tr>\n    <tr>\n      <th>1111294</th>\n      <td>0</td>\n      <td>0</td>\n      <td>1385596800</td>\n    </tr>\n    <tr>\n      <th>808985</th>\n      <td>4</td>\n      <td>5</td>\n      <td>1303344000</td>\n    </tr>\n  </tbody>\n</table>\n<p>978273 rows × 3 columns</p>\n</div>"
     },
     "metadata": {},
     "execution_count": 4
    }
   ],
   "source": [
    "x_train_features = x_train.drop(columns=['Id', 'ProductId', 'UserId', 'Text', 'Summary'])\n",
    "x_test_features = x_test.drop(columns=['Id', 'ProductId', 'UserId', 'Text', 'Summary'])\n",
    "\n",
    "x_train_features"
   ]
  },
  {
   "cell_type": "code",
   "execution_count": 5,
   "metadata": {},
   "outputs": [],
   "source": [
    "predictionSet = pd.read_csv(\"./data/prediction.csv\")\n",
    "x_predict = predictionSet.drop(columns=['Id', 'ProductId', 'UserId', 'Text', 'Summary', 'Score'])"
   ]
  },
  {
   "cell_type": "code",
   "execution_count": 6,
   "metadata": {},
   "outputs": [
    {
     "output_type": "execute_result",
     "data": {
      "text/plain": [
       "(419260, 9)"
      ]
     },
     "metadata": {},
     "execution_count": 6
    }
   ],
   "source": [
    "model = KNeighborsClassifier(n_neighbors=3).fit(x_train_features, y_train)\n",
    "predictionSet['Score'] = model.predict(x_predict)\n",
    "x_test['Score'] = model.predict(x_test_features)\n",
    "\n",
    "x_test.shape"
   ]
  },
  {
   "cell_type": "code",
   "execution_count": 11,
   "metadata": {},
   "outputs": [
    {
     "output_type": "execute_result",
     "data": {
      "text/plain": [
       "              Id   ProductId          UserId  HelpfulnessNumerator  \\\n",
       "2              2  0005019281  A3UORV8A9D5L2E                     0   \n",
       "3              3  0005019281  A1VKW06X1O2X7V                     0   \n",
       "4              4  0005019281  A3R27T4HADWFFJ                     0   \n",
       "10            12  0005019281   AG8D804FUG5Y4                     0   \n",
       "15            18  0005019281  A3UEOL981G9TXY                     0   \n",
       "...          ...         ...             ...                   ...   \n",
       "1397524  1697519  B00LH9ROKM   AER15RIMV8E6D                     0   \n",
       "1397525  1697521  B00LH9ROKM  A1Q3GEO516I4VK                     0   \n",
       "1397526  1697523  B00LT1JHLW   APO10VQE3MAKE                     2   \n",
       "1397530  1697530  B00LT1JHLW  A3DE438TF1A958                     3   \n",
       "1397532  1697532  B00LT1JHLW  A3ROPC55BE2OM9                    11   \n",
       "\n",
       "         HelpfulnessDenominator        Time  \\\n",
       "2                             0  1388361600   \n",
       "3                             0  1202860800   \n",
       "4                             0  1387670400   \n",
       "10                            1  1199836800   \n",
       "15                            0  1328227200   \n",
       "...                         ...         ...   \n",
       "1397524                       0  1405296000   \n",
       "1397525                       0  1404518400   \n",
       "1397526                       9  1405900800   \n",
       "1397530                      10  1405728000   \n",
       "1397532                      23  1405728000   \n",
       "\n",
       "                                                   Summary  \\\n",
       "2                    Winkler's Performance was ok at best!   \n",
       "3             It's an enjoyable twist on the classic story   \n",
       "4                                         Best Scrooge yet   \n",
       "10                                               Christmas   \n",
       "15                             An American Christmas Carol   \n",
       "...                                                    ...   \n",
       "1397524                               Creepy & Chilling!!!   \n",
       "1397525  Intense and compelling, with a dose of silly o...   \n",
       "1397526                                           Finally!   \n",
       "1397530  prayers have been answered because batman 60s ...   \n",
       "1397532  The Price is Insane? People Really Need to Wak...   \n",
       "\n",
       "                                                      Text  Score  \n",
       "2        Don't get me wrong, Winkler is a wonderful cha...    4.0  \n",
       "3        Henry Winkler is very good in this twist on th...    5.0  \n",
       "4        This is one of the best Scrooge movies out.  H...    3.0  \n",
       "10       My wife told me of this movie in which Henry W...    3.0  \n",
       "15       Henry Winkler played a great part as Scrooge. ...    3.0  \n",
       "...                                                    ...    ...  \n",
       "1397524  This is the 1st horror film of 2014 I've seen,...    5.0  \n",
       "1397525  While not nearly as terrifying as say, The Con...    4.0  \n",
       "1397526  Well it is finally coming to fruition!  Batman...    1.0  \n",
       "1397530  Could this be a true or I'm i dreaming batman ...    1.0  \n",
       "1397532  People seriously need to wake up and realize t...    1.0  \n",
       "\n",
       "[419260 rows x 9 columns]"
      ],
      "text/html": "<div>\n<style scoped>\n    .dataframe tbody tr th:only-of-type {\n        vertical-align: middle;\n    }\n\n    .dataframe tbody tr th {\n        vertical-align: top;\n    }\n\n    .dataframe thead th {\n        text-align: right;\n    }\n</style>\n<table border=\"1\" class=\"dataframe\">\n  <thead>\n    <tr style=\"text-align: right;\">\n      <th></th>\n      <th>Id</th>\n      <th>ProductId</th>\n      <th>UserId</th>\n      <th>HelpfulnessNumerator</th>\n      <th>HelpfulnessDenominator</th>\n      <th>Time</th>\n      <th>Summary</th>\n      <th>Text</th>\n      <th>Score</th>\n    </tr>\n  </thead>\n  <tbody>\n    <tr>\n      <th>2</th>\n      <td>2</td>\n      <td>0005019281</td>\n      <td>A3UORV8A9D5L2E</td>\n      <td>0</td>\n      <td>0</td>\n      <td>1388361600</td>\n      <td>Winkler's Performance was ok at best!</td>\n      <td>Don't get me wrong, Winkler is a wonderful cha...</td>\n      <td>4.0</td>\n    </tr>\n    <tr>\n      <th>3</th>\n      <td>3</td>\n      <td>0005019281</td>\n      <td>A1VKW06X1O2X7V</td>\n      <td>0</td>\n      <td>0</td>\n      <td>1202860800</td>\n      <td>It's an enjoyable twist on the classic story</td>\n      <td>Henry Winkler is very good in this twist on th...</td>\n      <td>5.0</td>\n    </tr>\n    <tr>\n      <th>4</th>\n      <td>4</td>\n      <td>0005019281</td>\n      <td>A3R27T4HADWFFJ</td>\n      <td>0</td>\n      <td>0</td>\n      <td>1387670400</td>\n      <td>Best Scrooge yet</td>\n      <td>This is one of the best Scrooge movies out.  H...</td>\n      <td>3.0</td>\n    </tr>\n    <tr>\n      <th>10</th>\n      <td>12</td>\n      <td>0005019281</td>\n      <td>AG8D804FUG5Y4</td>\n      <td>0</td>\n      <td>1</td>\n      <td>1199836800</td>\n      <td>Christmas</td>\n      <td>My wife told me of this movie in which Henry W...</td>\n      <td>3.0</td>\n    </tr>\n    <tr>\n      <th>15</th>\n      <td>18</td>\n      <td>0005019281</td>\n      <td>A3UEOL981G9TXY</td>\n      <td>0</td>\n      <td>0</td>\n      <td>1328227200</td>\n      <td>An American Christmas Carol</td>\n      <td>Henry Winkler played a great part as Scrooge. ...</td>\n      <td>3.0</td>\n    </tr>\n    <tr>\n      <th>...</th>\n      <td>...</td>\n      <td>...</td>\n      <td>...</td>\n      <td>...</td>\n      <td>...</td>\n      <td>...</td>\n      <td>...</td>\n      <td>...</td>\n      <td>...</td>\n    </tr>\n    <tr>\n      <th>1397524</th>\n      <td>1697519</td>\n      <td>B00LH9ROKM</td>\n      <td>AER15RIMV8E6D</td>\n      <td>0</td>\n      <td>0</td>\n      <td>1405296000</td>\n      <td>Creepy &amp; Chilling!!!</td>\n      <td>This is the 1st horror film of 2014 I've seen,...</td>\n      <td>5.0</td>\n    </tr>\n    <tr>\n      <th>1397525</th>\n      <td>1697521</td>\n      <td>B00LH9ROKM</td>\n      <td>A1Q3GEO516I4VK</td>\n      <td>0</td>\n      <td>0</td>\n      <td>1404518400</td>\n      <td>Intense and compelling, with a dose of silly o...</td>\n      <td>While not nearly as terrifying as say, The Con...</td>\n      <td>4.0</td>\n    </tr>\n    <tr>\n      <th>1397526</th>\n      <td>1697523</td>\n      <td>B00LT1JHLW</td>\n      <td>APO10VQE3MAKE</td>\n      <td>2</td>\n      <td>9</td>\n      <td>1405900800</td>\n      <td>Finally!</td>\n      <td>Well it is finally coming to fruition!  Batman...</td>\n      <td>1.0</td>\n    </tr>\n    <tr>\n      <th>1397530</th>\n      <td>1697530</td>\n      <td>B00LT1JHLW</td>\n      <td>A3DE438TF1A958</td>\n      <td>3</td>\n      <td>10</td>\n      <td>1405728000</td>\n      <td>prayers have been answered because batman 60s ...</td>\n      <td>Could this be a true or I'm i dreaming batman ...</td>\n      <td>1.0</td>\n    </tr>\n    <tr>\n      <th>1397532</th>\n      <td>1697532</td>\n      <td>B00LT1JHLW</td>\n      <td>A3ROPC55BE2OM9</td>\n      <td>11</td>\n      <td>23</td>\n      <td>1405728000</td>\n      <td>The Price is Insane? People Really Need to Wak...</td>\n      <td>People seriously need to wake up and realize t...</td>\n      <td>1.0</td>\n    </tr>\n  </tbody>\n</table>\n<p>419260 rows × 9 columns</p>\n</div>"
     },
     "metadata": {},
     "execution_count": 11
    }
   ],
   "source": [
    "x_test = x_test.sort_values(by=['Id'])\n",
    "x_test"
   ]
  },
  {
   "cell_type": "code",
   "execution_count": 12,
   "metadata": {},
   "outputs": [
    {
     "output_type": "execute_result",
     "data": {
      "text/plain": [
       "              Id  Score\n",
       "2              2    4.0\n",
       "3              3    5.0\n",
       "4              4    3.0\n",
       "10            12    3.0\n",
       "15            18    3.0\n",
       "...          ...    ...\n",
       "1397524  1697519    5.0\n",
       "1397525  1697521    4.0\n",
       "1397526  1697523    1.0\n",
       "1397530  1697530    1.0\n",
       "1397532  1697532    1.0\n",
       "\n",
       "[419260 rows x 2 columns]"
      ],
      "text/html": "<div>\n<style scoped>\n    .dataframe tbody tr th:only-of-type {\n        vertical-align: middle;\n    }\n\n    .dataframe tbody tr th {\n        vertical-align: top;\n    }\n\n    .dataframe thead th {\n        text-align: right;\n    }\n</style>\n<table border=\"1\" class=\"dataframe\">\n  <thead>\n    <tr style=\"text-align: right;\">\n      <th></th>\n      <th>Id</th>\n      <th>Score</th>\n    </tr>\n  </thead>\n  <tbody>\n    <tr>\n      <th>2</th>\n      <td>2</td>\n      <td>4.0</td>\n    </tr>\n    <tr>\n      <th>3</th>\n      <td>3</td>\n      <td>5.0</td>\n    </tr>\n    <tr>\n      <th>4</th>\n      <td>4</td>\n      <td>3.0</td>\n    </tr>\n    <tr>\n      <th>10</th>\n      <td>12</td>\n      <td>3.0</td>\n    </tr>\n    <tr>\n      <th>15</th>\n      <td>18</td>\n      <td>3.0</td>\n    </tr>\n    <tr>\n      <th>...</th>\n      <td>...</td>\n      <td>...</td>\n    </tr>\n    <tr>\n      <th>1397524</th>\n      <td>1697519</td>\n      <td>5.0</td>\n    </tr>\n    <tr>\n      <th>1397525</th>\n      <td>1697521</td>\n      <td>4.0</td>\n    </tr>\n    <tr>\n      <th>1397526</th>\n      <td>1697523</td>\n      <td>1.0</td>\n    </tr>\n    <tr>\n      <th>1397530</th>\n      <td>1697530</td>\n      <td>1.0</td>\n    </tr>\n    <tr>\n      <th>1397532</th>\n      <td>1697532</td>\n      <td>1.0</td>\n    </tr>\n  </tbody>\n</table>\n<p>419260 rows × 2 columns</p>\n</div>"
     },
     "metadata": {},
     "execution_count": 12
    }
   ],
   "source": [
    "submission = predictionSet[['Id', 'Score']]\n",
    "submission_offline = x_test[['Id', 'Score']]\n",
    "\n",
    "submission_offline"
   ]
  },
  {
   "cell_type": "code",
   "execution_count": 13,
   "metadata": {},
   "outputs": [],
   "source": [
    "submission.to_csv(\"./data/submission.csv\", index=False)\n",
    "submission_offline.to_csv(\"./data/submission_offline.csv\", index=False)"
   ]
  },
  {
   "source": [
    "# Now Evaluator Code"
   ],
   "cell_type": "markdown",
   "metadata": {}
  },
  {
   "cell_type": "code",
   "execution_count": 3,
   "metadata": {},
   "outputs": [],
   "source": [
    "from sklearn.metrics import mean_squared_error\n",
    "import pandas as pd\n"
   ]
  },
  {
   "cell_type": "code",
   "execution_count": 4,
   "metadata": {},
   "outputs": [],
   "source": [
    "y_predict = pd.read_csv(\"./data/submission_offline.csv\")\n",
    "train = pd.read_csv(\"./data/X_train.csv\")"
   ]
  },
  {
   "cell_type": "code",
   "execution_count": 5,
   "metadata": {},
   "outputs": [
    {
     "output_type": "execute_result",
     "data": {
      "text/plain": [
       "             Id\n",
       "0             2\n",
       "1             3\n",
       "2             4\n",
       "3            12\n",
       "4            18\n",
       "...         ...\n",
       "419255  1697519\n",
       "419256  1697521\n",
       "419257  1697523\n",
       "419258  1697530\n",
       "419259  1697532\n",
       "\n",
       "[419260 rows x 1 columns]"
      ],
      "text/html": "<div>\n<style scoped>\n    .dataframe tbody tr th:only-of-type {\n        vertical-align: middle;\n    }\n\n    .dataframe tbody tr th {\n        vertical-align: top;\n    }\n\n    .dataframe thead th {\n        text-align: right;\n    }\n</style>\n<table border=\"1\" class=\"dataframe\">\n  <thead>\n    <tr style=\"text-align: right;\">\n      <th></th>\n      <th>Id</th>\n    </tr>\n  </thead>\n  <tbody>\n    <tr>\n      <th>0</th>\n      <td>2</td>\n    </tr>\n    <tr>\n      <th>1</th>\n      <td>3</td>\n    </tr>\n    <tr>\n      <th>2</th>\n      <td>4</td>\n    </tr>\n    <tr>\n      <th>3</th>\n      <td>12</td>\n    </tr>\n    <tr>\n      <th>4</th>\n      <td>18</td>\n    </tr>\n    <tr>\n      <th>...</th>\n      <td>...</td>\n    </tr>\n    <tr>\n      <th>419255</th>\n      <td>1697519</td>\n    </tr>\n    <tr>\n      <th>419256</th>\n      <td>1697521</td>\n    </tr>\n    <tr>\n      <th>419257</th>\n      <td>1697523</td>\n    </tr>\n    <tr>\n      <th>419258</th>\n      <td>1697530</td>\n    </tr>\n    <tr>\n      <th>419259</th>\n      <td>1697532</td>\n    </tr>\n  </tbody>\n</table>\n<p>419260 rows × 1 columns</p>\n</div>"
     },
     "metadata": {},
     "execution_count": 5
    }
   ],
   "source": [
    "y_id = y_predict.drop(columns=['Score'])\n",
    "y_id"
   ]
  },
  {
   "cell_type": "code",
   "execution_count": 6,
   "metadata": {},
   "outputs": [],
   "source": [
    "y_true = pd.merge(train, y_id, left_on='Id', right_on='Id')"
   ]
  },
  {
   "cell_type": "code",
   "execution_count": 7,
   "metadata": {},
   "outputs": [
    {
     "output_type": "execute_result",
     "data": {
      "text/plain": [
       "             Id  Score\n",
       "0             2    4.0\n",
       "1             3    5.0\n",
       "2             4    3.0\n",
       "3            12    3.0\n",
       "4            18    3.0\n",
       "...         ...    ...\n",
       "419255  1697519    5.0\n",
       "419256  1697521    4.0\n",
       "419257  1697523    1.0\n",
       "419258  1697530    1.0\n",
       "419259  1697532    1.0\n",
       "\n",
       "[419260 rows x 2 columns]"
      ],
      "text/html": "<div>\n<style scoped>\n    .dataframe tbody tr th:only-of-type {\n        vertical-align: middle;\n    }\n\n    .dataframe tbody tr th {\n        vertical-align: top;\n    }\n\n    .dataframe thead th {\n        text-align: right;\n    }\n</style>\n<table border=\"1\" class=\"dataframe\">\n  <thead>\n    <tr style=\"text-align: right;\">\n      <th></th>\n      <th>Id</th>\n      <th>Score</th>\n    </tr>\n  </thead>\n  <tbody>\n    <tr>\n      <th>0</th>\n      <td>2</td>\n      <td>4.0</td>\n    </tr>\n    <tr>\n      <th>1</th>\n      <td>3</td>\n      <td>5.0</td>\n    </tr>\n    <tr>\n      <th>2</th>\n      <td>4</td>\n      <td>3.0</td>\n    </tr>\n    <tr>\n      <th>3</th>\n      <td>12</td>\n      <td>3.0</td>\n    </tr>\n    <tr>\n      <th>4</th>\n      <td>18</td>\n      <td>3.0</td>\n    </tr>\n    <tr>\n      <th>...</th>\n      <td>...</td>\n      <td>...</td>\n    </tr>\n    <tr>\n      <th>419255</th>\n      <td>1697519</td>\n      <td>5.0</td>\n    </tr>\n    <tr>\n      <th>419256</th>\n      <td>1697521</td>\n      <td>4.0</td>\n    </tr>\n    <tr>\n      <th>419257</th>\n      <td>1697523</td>\n      <td>1.0</td>\n    </tr>\n    <tr>\n      <th>419258</th>\n      <td>1697530</td>\n      <td>1.0</td>\n    </tr>\n    <tr>\n      <th>419259</th>\n      <td>1697532</td>\n      <td>1.0</td>\n    </tr>\n  </tbody>\n</table>\n<p>419260 rows × 2 columns</p>\n</div>"
     },
     "metadata": {},
     "execution_count": 7
    }
   ],
   "source": [
    "y_predict"
   ]
  },
  {
   "cell_type": "code",
   "execution_count": 8,
   "metadata": {},
   "outputs": [
    {
     "output_type": "execute_result",
     "data": {
      "text/plain": [
       "             Id   ProductId          UserId  HelpfulnessNumerator  \\\n",
       "0             2  0005019281  A3UORV8A9D5L2E                     0   \n",
       "1             3  0005019281  A1VKW06X1O2X7V                     0   \n",
       "2             4  0005019281  A3R27T4HADWFFJ                     0   \n",
       "3            12  0005019281   AG8D804FUG5Y4                     0   \n",
       "4            18  0005019281  A3UEOL981G9TXY                     0   \n",
       "...         ...         ...             ...                   ...   \n",
       "419255  1697519  B00LH9ROKM   AER15RIMV8E6D                     0   \n",
       "419256  1697521  B00LH9ROKM  A1Q3GEO516I4VK                     0   \n",
       "419257  1697523  B00LT1JHLW   APO10VQE3MAKE                     2   \n",
       "419258  1697530  B00LT1JHLW  A3DE438TF1A958                     3   \n",
       "419259  1697532  B00LT1JHLW  A3ROPC55BE2OM9                    11   \n",
       "\n",
       "        HelpfulnessDenominator  Score        Time  \\\n",
       "0                            0    3.0  1388361600   \n",
       "1                            0    5.0  1202860800   \n",
       "2                            0    4.0  1387670400   \n",
       "3                            1    3.0  1199836800   \n",
       "4                            0    5.0  1328227200   \n",
       "...                        ...    ...         ...   \n",
       "419255                       0    4.0  1405296000   \n",
       "419256                       0    4.0  1404518400   \n",
       "419257                       9    5.0  1405900800   \n",
       "419258                      10    5.0  1405728000   \n",
       "419259                      23    5.0  1405728000   \n",
       "\n",
       "                                                  Summary  \\\n",
       "0                   Winkler's Performance was ok at best!   \n",
       "1            It's an enjoyable twist on the classic story   \n",
       "2                                        Best Scrooge yet   \n",
       "3                                               Christmas   \n",
       "4                             An American Christmas Carol   \n",
       "...                                                   ...   \n",
       "419255                               Creepy & Chilling!!!   \n",
       "419256  Intense and compelling, with a dose of silly o...   \n",
       "419257                                           Finally!   \n",
       "419258  prayers have been answered because batman 60s ...   \n",
       "419259  The Price is Insane? People Really Need to Wak...   \n",
       "\n",
       "                                                     Text  \n",
       "0       Don't get me wrong, Winkler is a wonderful cha...  \n",
       "1       Henry Winkler is very good in this twist on th...  \n",
       "2       This is one of the best Scrooge movies out.  H...  \n",
       "3       My wife told me of this movie in which Henry W...  \n",
       "4       Henry Winkler played a great part as Scrooge. ...  \n",
       "...                                                   ...  \n",
       "419255  This is the 1st horror film of 2014 I've seen,...  \n",
       "419256  While not nearly as terrifying as say, The Con...  \n",
       "419257  Well it is finally coming to fruition!  Batman...  \n",
       "419258  Could this be a true or I'm i dreaming batman ...  \n",
       "419259  People seriously need to wake up and realize t...  \n",
       "\n",
       "[419260 rows x 9 columns]"
      ],
      "text/html": "<div>\n<style scoped>\n    .dataframe tbody tr th:only-of-type {\n        vertical-align: middle;\n    }\n\n    .dataframe tbody tr th {\n        vertical-align: top;\n    }\n\n    .dataframe thead th {\n        text-align: right;\n    }\n</style>\n<table border=\"1\" class=\"dataframe\">\n  <thead>\n    <tr style=\"text-align: right;\">\n      <th></th>\n      <th>Id</th>\n      <th>ProductId</th>\n      <th>UserId</th>\n      <th>HelpfulnessNumerator</th>\n      <th>HelpfulnessDenominator</th>\n      <th>Score</th>\n      <th>Time</th>\n      <th>Summary</th>\n      <th>Text</th>\n    </tr>\n  </thead>\n  <tbody>\n    <tr>\n      <th>0</th>\n      <td>2</td>\n      <td>0005019281</td>\n      <td>A3UORV8A9D5L2E</td>\n      <td>0</td>\n      <td>0</td>\n      <td>3.0</td>\n      <td>1388361600</td>\n      <td>Winkler's Performance was ok at best!</td>\n      <td>Don't get me wrong, Winkler is a wonderful cha...</td>\n    </tr>\n    <tr>\n      <th>1</th>\n      <td>3</td>\n      <td>0005019281</td>\n      <td>A1VKW06X1O2X7V</td>\n      <td>0</td>\n      <td>0</td>\n      <td>5.0</td>\n      <td>1202860800</td>\n      <td>It's an enjoyable twist on the classic story</td>\n      <td>Henry Winkler is very good in this twist on th...</td>\n    </tr>\n    <tr>\n      <th>2</th>\n      <td>4</td>\n      <td>0005019281</td>\n      <td>A3R27T4HADWFFJ</td>\n      <td>0</td>\n      <td>0</td>\n      <td>4.0</td>\n      <td>1387670400</td>\n      <td>Best Scrooge yet</td>\n      <td>This is one of the best Scrooge movies out.  H...</td>\n    </tr>\n    <tr>\n      <th>3</th>\n      <td>12</td>\n      <td>0005019281</td>\n      <td>AG8D804FUG5Y4</td>\n      <td>0</td>\n      <td>1</td>\n      <td>3.0</td>\n      <td>1199836800</td>\n      <td>Christmas</td>\n      <td>My wife told me of this movie in which Henry W...</td>\n    </tr>\n    <tr>\n      <th>4</th>\n      <td>18</td>\n      <td>0005019281</td>\n      <td>A3UEOL981G9TXY</td>\n      <td>0</td>\n      <td>0</td>\n      <td>5.0</td>\n      <td>1328227200</td>\n      <td>An American Christmas Carol</td>\n      <td>Henry Winkler played a great part as Scrooge. ...</td>\n    </tr>\n    <tr>\n      <th>...</th>\n      <td>...</td>\n      <td>...</td>\n      <td>...</td>\n      <td>...</td>\n      <td>...</td>\n      <td>...</td>\n      <td>...</td>\n      <td>...</td>\n      <td>...</td>\n    </tr>\n    <tr>\n      <th>419255</th>\n      <td>1697519</td>\n      <td>B00LH9ROKM</td>\n      <td>AER15RIMV8E6D</td>\n      <td>0</td>\n      <td>0</td>\n      <td>4.0</td>\n      <td>1405296000</td>\n      <td>Creepy &amp; Chilling!!!</td>\n      <td>This is the 1st horror film of 2014 I've seen,...</td>\n    </tr>\n    <tr>\n      <th>419256</th>\n      <td>1697521</td>\n      <td>B00LH9ROKM</td>\n      <td>A1Q3GEO516I4VK</td>\n      <td>0</td>\n      <td>0</td>\n      <td>4.0</td>\n      <td>1404518400</td>\n      <td>Intense and compelling, with a dose of silly o...</td>\n      <td>While not nearly as terrifying as say, The Con...</td>\n    </tr>\n    <tr>\n      <th>419257</th>\n      <td>1697523</td>\n      <td>B00LT1JHLW</td>\n      <td>APO10VQE3MAKE</td>\n      <td>2</td>\n      <td>9</td>\n      <td>5.0</td>\n      <td>1405900800</td>\n      <td>Finally!</td>\n      <td>Well it is finally coming to fruition!  Batman...</td>\n    </tr>\n    <tr>\n      <th>419258</th>\n      <td>1697530</td>\n      <td>B00LT1JHLW</td>\n      <td>A3DE438TF1A958</td>\n      <td>3</td>\n      <td>10</td>\n      <td>5.0</td>\n      <td>1405728000</td>\n      <td>prayers have been answered because batman 60s ...</td>\n      <td>Could this be a true or I'm i dreaming batman ...</td>\n    </tr>\n    <tr>\n      <th>419259</th>\n      <td>1697532</td>\n      <td>B00LT1JHLW</td>\n      <td>A3ROPC55BE2OM9</td>\n      <td>11</td>\n      <td>23</td>\n      <td>5.0</td>\n      <td>1405728000</td>\n      <td>The Price is Insane? People Really Need to Wak...</td>\n      <td>People seriously need to wake up and realize t...</td>\n    </tr>\n  </tbody>\n</table>\n<p>419260 rows × 9 columns</p>\n</div>"
     },
     "metadata": {},
     "execution_count": 8
    }
   ],
   "source": [
    "y_true"
   ]
  },
  {
   "cell_type": "code",
   "execution_count": 9,
   "metadata": {},
   "outputs": [],
   "source": [
    "y_predict = y_predict['Score']\n",
    "y_true = y_true['Score']"
   ]
  },
  {
   "cell_type": "code",
   "execution_count": 10,
   "metadata": {},
   "outputs": [
    {
     "output_type": "execute_result",
     "data": {
      "text/plain": [
       "0         4.0\n",
       "1         5.0\n",
       "2         3.0\n",
       "3         3.0\n",
       "4         3.0\n",
       "         ... \n",
       "419255    5.0\n",
       "419256    4.0\n",
       "419257    1.0\n",
       "419258    1.0\n",
       "419259    1.0\n",
       "Name: Score, Length: 419260, dtype: float64"
      ]
     },
     "metadata": {},
     "execution_count": 10
    }
   ],
   "source": [
    "y_predict"
   ]
  },
  {
   "cell_type": "code",
   "execution_count": 11,
   "metadata": {},
   "outputs": [
    {
     "output_type": "execute_result",
     "data": {
      "text/plain": [
       "0         3.0\n",
       "1         5.0\n",
       "2         4.0\n",
       "3         3.0\n",
       "4         5.0\n",
       "         ... \n",
       "419255    4.0\n",
       "419256    4.0\n",
       "419257    5.0\n",
       "419258    5.0\n",
       "419259    5.0\n",
       "Name: Score, Length: 419260, dtype: float64"
      ]
     },
     "metadata": {},
     "execution_count": 11
    }
   ],
   "source": [
    "y_true"
   ]
  },
  {
   "cell_type": "code",
   "execution_count": 12,
   "metadata": {},
   "outputs": [
    {
     "output_type": "execute_result",
     "data": {
      "text/plain": [
       "1.5737790563022567"
      ]
     },
     "metadata": {},
     "execution_count": 12
    }
   ],
   "source": [
    "rmse = mean_squared_error(y_true, y_predict, squared=False)\n",
    "rmse"
   ]
  },
  {
   "cell_type": "code",
   "execution_count": null,
   "metadata": {},
   "outputs": [],
   "source": []
  }
 ]
}